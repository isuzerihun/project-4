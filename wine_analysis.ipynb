{
 "cells": [
  {
   "cell_type": "markdown",
   "metadata": {
    "id": "u-EEv9utoT69"
   },
   "source": [
    "# Task 1: Data Preparation and Analysis\n"
   ]
  },
  {
   "cell_type": "markdown",
   "metadata": {
    "id": "u-EEv9utoT69"
   },
   "source": [
    "## Task 1.1\n"
   ]
  },
  {
   "cell_type": "code",
   "execution_count": 2,
   "metadata": {
    "id": "Qykq4YuQtZUS"
   },
   "outputs": [],
   "source": [
    "import pandas as pd"
   ]
  },
  {
   "cell_type": "code",
   "execution_count": 3,
   "metadata": {},
   "outputs": [],
   "source": [
    "filename = 'A2data.csv'"
   ]
  },
  {
   "cell_type": "code",
   "execution_count": 4,
   "metadata": {},
   "outputs": [],
   "source": [
    "col_names = [\"fixed acidity\",\"volatile acidity\",\"citric acid\",\"residual sugar\",\"chlorides\",\"free sulfur dioxide\",  \n",
    "             \"total sulfur dioxide\",\"density\",\"pH\",\"sulphates\",\"alcohol\",\"quality\"]"
   ]
  },
  {
   "cell_type": "code",
   "execution_count": 5,
   "metadata": {},
   "outputs": [],
   "source": [
    "# Reading the CSV file. Delimiter set to ';'\n",
    "\n",
    "alcohol_df = pd.read_csv(filename, sep = ';', header = None, skiprows = 1, names = col_names, skipinitialspace = True)"
   ]
  },
  {
   "cell_type": "code",
   "execution_count": 6,
   "metadata": {},
   "outputs": [
    {
     "data": {
      "text/html": [
       "<div>\n",
       "<style scoped>\n",
       "    .dataframe tbody tr th:only-of-type {\n",
       "        vertical-align: middle;\n",
       "    }\n",
       "\n",
       "    .dataframe tbody tr th {\n",
       "        vertical-align: top;\n",
       "    }\n",
       "\n",
       "    .dataframe thead th {\n",
       "        text-align: right;\n",
       "    }\n",
       "</style>\n",
       "<table border=\"1\" class=\"dataframe\">\n",
       "  <thead>\n",
       "    <tr style=\"text-align: right;\">\n",
       "      <th></th>\n",
       "      <th>fixed acidity</th>\n",
       "      <th>volatile acidity</th>\n",
       "      <th>citric acid</th>\n",
       "      <th>residual sugar</th>\n",
       "      <th>chlorides</th>\n",
       "      <th>free sulfur dioxide</th>\n",
       "      <th>total sulfur dioxide</th>\n",
       "      <th>density</th>\n",
       "      <th>pH</th>\n",
       "      <th>sulphates</th>\n",
       "      <th>alcohol</th>\n",
       "      <th>quality</th>\n",
       "    </tr>\n",
       "  </thead>\n",
       "  <tbody>\n",
       "    <tr>\n",
       "      <th>0</th>\n",
       "      <td>7.0</td>\n",
       "      <td>0.27</td>\n",
       "      <td>0.36</td>\n",
       "      <td>20.7</td>\n",
       "      <td>0.045</td>\n",
       "      <td>45.0</td>\n",
       "      <td>170.0</td>\n",
       "      <td>1.0010</td>\n",
       "      <td>3.00</td>\n",
       "      <td>0.45</td>\n",
       "      <td>8.8</td>\n",
       "      <td>6</td>\n",
       "    </tr>\n",
       "    <tr>\n",
       "      <th>1</th>\n",
       "      <td>6.3</td>\n",
       "      <td>0.30</td>\n",
       "      <td>0.34</td>\n",
       "      <td>1.6</td>\n",
       "      <td>0.049</td>\n",
       "      <td>14.0</td>\n",
       "      <td>132.0</td>\n",
       "      <td>0.9940</td>\n",
       "      <td>3.30</td>\n",
       "      <td>0.49</td>\n",
       "      <td>9.5</td>\n",
       "      <td>6</td>\n",
       "    </tr>\n",
       "    <tr>\n",
       "      <th>2</th>\n",
       "      <td>8.1</td>\n",
       "      <td>0.28</td>\n",
       "      <td>0.40</td>\n",
       "      <td>6.9</td>\n",
       "      <td>0.050</td>\n",
       "      <td>30.0</td>\n",
       "      <td>97.0</td>\n",
       "      <td>0.9951</td>\n",
       "      <td>3.26</td>\n",
       "      <td>0.44</td>\n",
       "      <td>10.1</td>\n",
       "      <td>6</td>\n",
       "    </tr>\n",
       "    <tr>\n",
       "      <th>3</th>\n",
       "      <td>7.2</td>\n",
       "      <td>0.23</td>\n",
       "      <td>0.32</td>\n",
       "      <td>8.5</td>\n",
       "      <td>0.058</td>\n",
       "      <td>47.0</td>\n",
       "      <td>186.0</td>\n",
       "      <td>0.9956</td>\n",
       "      <td>3.19</td>\n",
       "      <td>0.40</td>\n",
       "      <td>9.9</td>\n",
       "      <td>6</td>\n",
       "    </tr>\n",
       "    <tr>\n",
       "      <th>4</th>\n",
       "      <td>7.2</td>\n",
       "      <td>0.23</td>\n",
       "      <td>0.32</td>\n",
       "      <td>8.5</td>\n",
       "      <td>0.058</td>\n",
       "      <td>47.0</td>\n",
       "      <td>186.0</td>\n",
       "      <td>0.9956</td>\n",
       "      <td>3.19</td>\n",
       "      <td>0.40</td>\n",
       "      <td>9.9</td>\n",
       "      <td>6</td>\n",
       "    </tr>\n",
       "  </tbody>\n",
       "</table>\n",
       "</div>"
      ],
      "text/plain": [
       "   fixed acidity  volatile acidity  citric acid  residual sugar  chlorides  \\\n",
       "0            7.0              0.27         0.36            20.7      0.045   \n",
       "1            6.3              0.30         0.34             1.6      0.049   \n",
       "2            8.1              0.28         0.40             6.9      0.050   \n",
       "3            7.2              0.23         0.32             8.5      0.058   \n",
       "4            7.2              0.23         0.32             8.5      0.058   \n",
       "\n",
       "   free sulfur dioxide  total sulfur dioxide  density    pH  sulphates  \\\n",
       "0                 45.0                 170.0   1.0010  3.00       0.45   \n",
       "1                 14.0                 132.0   0.9940  3.30       0.49   \n",
       "2                 30.0                  97.0   0.9951  3.26       0.44   \n",
       "3                 47.0                 186.0   0.9956  3.19       0.40   \n",
       "4                 47.0                 186.0   0.9956  3.19       0.40   \n",
       "\n",
       "   alcohol  quality  \n",
       "0      8.8        6  \n",
       "1      9.5        6  \n",
       "2     10.1        6  \n",
       "3      9.9        6  \n",
       "4      9.9        6  "
      ]
     },
     "execution_count": 6,
     "metadata": {},
     "output_type": "execute_result"
    }
   ],
   "source": [
    "alcohol_df.head()"
   ]
  },
  {
   "cell_type": "code",
   "execution_count": 7,
   "metadata": {},
   "outputs": [
    {
     "data": {
      "text/plain": [
       "(4781, 12)"
      ]
     },
     "execution_count": 7,
     "metadata": {},
     "output_type": "execute_result"
    }
   ],
   "source": [
    "alcohol_df.shape"
   ]
  },
  {
   "cell_type": "code",
   "execution_count": 8,
   "metadata": {},
   "outputs": [],
   "source": [
    "# Dropping duplicate data.\n",
    "\n",
    "alcohol_df = alcohol_df.drop_duplicates()"
   ]
  },
  {
   "cell_type": "code",
   "execution_count": 9,
   "metadata": {},
   "outputs": [
    {
     "data": {
      "text/plain": [
       "(3875, 12)"
      ]
     },
     "execution_count": 9,
     "metadata": {},
     "output_type": "execute_result"
    }
   ],
   "source": [
    "alcohol_df.shape"
   ]
  },
  {
   "cell_type": "code",
   "execution_count": 10,
   "metadata": {},
   "outputs": [
    {
     "data": {
      "text/plain": [
       "fixed acidity           float64\n",
       "volatile acidity        float64\n",
       "citric acid             float64\n",
       "residual sugar          float64\n",
       "chlorides               float64\n",
       "free sulfur dioxide     float64\n",
       "total sulfur dioxide    float64\n",
       "density                 float64\n",
       "pH                      float64\n",
       "sulphates               float64\n",
       "alcohol                 float64\n",
       "quality                   int64\n",
       "dtype: object"
      ]
     },
     "execution_count": 10,
     "metadata": {},
     "output_type": "execute_result"
    }
   ],
   "source": [
    "alcohol_df.dtypes"
   ]
  },
  {
   "cell_type": "code",
   "execution_count": 11,
   "metadata": {},
   "outputs": [
    {
     "name": "stdout",
     "output_type": "stream",
     "text": [
      "Number of nulls in each column\n",
      "\n"
     ]
    },
    {
     "data": {
      "text/plain": [
       "fixed acidity           0\n",
       "volatile acidity        1\n",
       "citric acid             5\n",
       "residual sugar          7\n",
       "chlorides               1\n",
       "free sulfur dioxide     3\n",
       "total sulfur dioxide    4\n",
       "density                 7\n",
       "pH                      1\n",
       "sulphates               2\n",
       "alcohol                 0\n",
       "quality                 0\n",
       "dtype: int64"
      ]
     },
     "execution_count": 11,
     "metadata": {},
     "output_type": "execute_result"
    }
   ],
   "source": [
    "# Checking for null values\n",
    "print(\"Number of nulls in each column\\n\")\n",
    "alcohol_df.isnull().sum()"
   ]
  },
  {
   "cell_type": "code",
   "execution_count": 12,
   "metadata": {},
   "outputs": [
    {
     "data": {
      "text/plain": [
       "fixed acidity             6.846568\n",
       "volatile acidity          0.280177\n",
       "citric acid               0.334886\n",
       "residual sugar            5.935832\n",
       "chlorides                 0.045935\n",
       "free sulfur dioxide      34.866606\n",
       "total sulfur dioxide    137.341901\n",
       "density                   0.993815\n",
       "pH                        3.195896\n",
       "sulphates                 0.489933\n",
       "alcohol                  10.581463\n",
       "quality                   5.854452\n",
       "dtype: float64"
      ]
     },
     "execution_count": 12,
     "metadata": {},
     "output_type": "execute_result"
    }
   ],
   "source": [
    "alcohol_df.mean()"
   ]
  },
  {
   "cell_type": "code",
   "execution_count": 13,
   "metadata": {},
   "outputs": [],
   "source": [
    "# Filling the null value in each column with the respective mean.\n",
    "\n",
    "alcohol_df = alcohol_df.fillna(alcohol_df.mean())"
   ]
  },
  {
   "cell_type": "code",
   "execution_count": 14,
   "metadata": {},
   "outputs": [
    {
     "name": "stdout",
     "output_type": "stream",
     "text": [
      "Number of nulls in each column\n",
      "\n"
     ]
    },
    {
     "data": {
      "text/plain": [
       "fixed acidity           0\n",
       "volatile acidity        0\n",
       "citric acid             0\n",
       "residual sugar          0\n",
       "chlorides               0\n",
       "free sulfur dioxide     0\n",
       "total sulfur dioxide    0\n",
       "density                 0\n",
       "pH                      0\n",
       "sulphates               0\n",
       "alcohol                 0\n",
       "quality                 0\n",
       "dtype: int64"
      ]
     },
     "execution_count": 14,
     "metadata": {},
     "output_type": "execute_result"
    }
   ],
   "source": [
    "print(\"Number of nulls in each column\\n\")\n",
    "alcohol_df.isnull().sum()"
   ]
  },
  {
   "cell_type": "code",
   "execution_count": 15,
   "metadata": {},
   "outputs": [],
   "source": [
    "# Collecting a random sample of the dataset, 600 instances.\n",
    "\n",
    "A2data_sample = alcohol_df.sample(n=600,random_state=3)"
   ]
  },
  {
   "cell_type": "code",
   "execution_count": 16,
   "metadata": {},
   "outputs": [
    {
     "data": {
      "text/html": [
       "<div>\n",
       "<style scoped>\n",
       "    .dataframe tbody tr th:only-of-type {\n",
       "        vertical-align: middle;\n",
       "    }\n",
       "\n",
       "    .dataframe tbody tr th {\n",
       "        vertical-align: top;\n",
       "    }\n",
       "\n",
       "    .dataframe thead th {\n",
       "        text-align: right;\n",
       "    }\n",
       "</style>\n",
       "<table border=\"1\" class=\"dataframe\">\n",
       "  <thead>\n",
       "    <tr style=\"text-align: right;\">\n",
       "      <th></th>\n",
       "      <th>fixed acidity</th>\n",
       "      <th>volatile acidity</th>\n",
       "      <th>citric acid</th>\n",
       "      <th>residual sugar</th>\n",
       "      <th>chlorides</th>\n",
       "      <th>free sulfur dioxide</th>\n",
       "      <th>total sulfur dioxide</th>\n",
       "      <th>density</th>\n",
       "      <th>pH</th>\n",
       "      <th>sulphates</th>\n",
       "      <th>alcohol</th>\n",
       "      <th>quality</th>\n",
       "    </tr>\n",
       "  </thead>\n",
       "  <tbody>\n",
       "    <tr>\n",
       "      <th>3420</th>\n",
       "      <td>6.6</td>\n",
       "      <td>0.21</td>\n",
       "      <td>0.29</td>\n",
       "      <td>5.35</td>\n",
       "      <td>0.029</td>\n",
       "      <td>43.0</td>\n",
       "      <td>106.0</td>\n",
       "      <td>0.99112</td>\n",
       "      <td>2.93</td>\n",
       "      <td>0.43</td>\n",
       "      <td>11.5</td>\n",
       "      <td>7</td>\n",
       "    </tr>\n",
       "    <tr>\n",
       "      <th>2683</th>\n",
       "      <td>6.7</td>\n",
       "      <td>0.26</td>\n",
       "      <td>0.39</td>\n",
       "      <td>6.40</td>\n",
       "      <td>0.171</td>\n",
       "      <td>64.0</td>\n",
       "      <td>200.0</td>\n",
       "      <td>0.99562</td>\n",
       "      <td>3.19</td>\n",
       "      <td>0.38</td>\n",
       "      <td>9.4</td>\n",
       "      <td>6</td>\n",
       "    </tr>\n",
       "    <tr>\n",
       "      <th>1145</th>\n",
       "      <td>7.5</td>\n",
       "      <td>0.14</td>\n",
       "      <td>0.34</td>\n",
       "      <td>1.30</td>\n",
       "      <td>0.055</td>\n",
       "      <td>50.0</td>\n",
       "      <td>153.0</td>\n",
       "      <td>0.99450</td>\n",
       "      <td>3.29</td>\n",
       "      <td>0.80</td>\n",
       "      <td>9.6</td>\n",
       "      <td>6</td>\n",
       "    </tr>\n",
       "    <tr>\n",
       "      <th>2303</th>\n",
       "      <td>7.0</td>\n",
       "      <td>0.35</td>\n",
       "      <td>0.17</td>\n",
       "      <td>1.10</td>\n",
       "      <td>0.049</td>\n",
       "      <td>7.0</td>\n",
       "      <td>119.0</td>\n",
       "      <td>0.99297</td>\n",
       "      <td>3.13</td>\n",
       "      <td>0.36</td>\n",
       "      <td>9.7</td>\n",
       "      <td>6</td>\n",
       "    </tr>\n",
       "    <tr>\n",
       "      <th>1965</th>\n",
       "      <td>8.1</td>\n",
       "      <td>0.22</td>\n",
       "      <td>0.28</td>\n",
       "      <td>7.70</td>\n",
       "      <td>0.043</td>\n",
       "      <td>57.0</td>\n",
       "      <td>176.0</td>\n",
       "      <td>0.99540</td>\n",
       "      <td>3.12</td>\n",
       "      <td>0.55</td>\n",
       "      <td>10.0</td>\n",
       "      <td>5</td>\n",
       "    </tr>\n",
       "  </tbody>\n",
       "</table>\n",
       "</div>"
      ],
      "text/plain": [
       "      fixed acidity  volatile acidity  citric acid  residual sugar  chlorides  \\\n",
       "3420            6.6              0.21         0.29            5.35      0.029   \n",
       "2683            6.7              0.26         0.39            6.40      0.171   \n",
       "1145            7.5              0.14         0.34            1.30      0.055   \n",
       "2303            7.0              0.35         0.17            1.10      0.049   \n",
       "1965            8.1              0.22         0.28            7.70      0.043   \n",
       "\n",
       "      free sulfur dioxide  total sulfur dioxide  density    pH  sulphates  \\\n",
       "3420                 43.0                 106.0  0.99112  2.93       0.43   \n",
       "2683                 64.0                 200.0  0.99562  3.19       0.38   \n",
       "1145                 50.0                 153.0  0.99450  3.29       0.80   \n",
       "2303                  7.0                 119.0  0.99297  3.13       0.36   \n",
       "1965                 57.0                 176.0  0.99540  3.12       0.55   \n",
       "\n",
       "      alcohol  quality  \n",
       "3420     11.5        7  \n",
       "2683      9.4        6  \n",
       "1145      9.6        6  \n",
       "2303      9.7        6  \n",
       "1965     10.0        5  "
      ]
     },
     "execution_count": 16,
     "metadata": {},
     "output_type": "execute_result"
    }
   ],
   "source": [
    "A2data_sample.head()"
   ]
  },
  {
   "cell_type": "code",
   "execution_count": 17,
   "metadata": {},
   "outputs": [
    {
     "name": "stdout",
     "output_type": "stream",
     "text": [
      "Shape of dataset: (600, 12)\n",
      "Number of duplicates: 0\n"
     ]
    }
   ],
   "source": [
    "print(f\"Shape of dataset: {A2data_sample.shape}\")\n",
    "print(f\"Number of duplicates: {A2data_sample.duplicated().sum()}\")"
   ]
  },
  {
   "cell_type": "code",
   "execution_count": 18,
   "metadata": {},
   "outputs": [],
   "source": [
    "# Saving the cleansed sample onto a new CSV file.\n",
    "\n",
    "A2data_sample.to_csv('A2RandomSample.csv', index = False)"
   ]
  },
  {
   "cell_type": "markdown",
   "metadata": {
    "id": "u-EEv9utoT69"
   },
   "source": [
    "## Task 1.2\n"
   ]
  },
  {
   "cell_type": "code",
   "execution_count": 19,
   "metadata": {},
   "outputs": [],
   "source": [
    "import matplotlib.pyplot as plt"
   ]
  },
  {
   "cell_type": "code",
   "execution_count": 20,
   "metadata": {},
   "outputs": [],
   "source": [
    "df_alcohol = pd.read_csv('A2RandomSample.csv')"
   ]
  },
  {
   "cell_type": "code",
   "execution_count": 21,
   "metadata": {},
   "outputs": [
    {
     "data": {
      "image/png": "[encoded data removed]",
      "text/plain": [
       "<Figure size 640x480 with 1 Axes>"
      ]
     },
     "metadata": {},
     "output_type": "display_data"
    }
   ],
   "source": [
    "\"\"\"\n",
    "Scatterplot\n",
    "\n",
    "This plots against two variables:\n",
    "    Alcohol percentage (X-axis)\n",
    "    Alcohol density (Y-axis)\n",
    "    \n",
    "\"\"\"\n",
    "\n",
    "df_alcohol.plot(kind='scatter', x='density', y='alcohol')\n",
    "plt.title(\"Scatterplot - Alcohol vs Density\")\n",
    "plt.ylabel(\"Alcohol percentage (%)\")\n",
    "plt.xlabel(\"Alcohol density (g / cm^3)\")\n",
    "plt.show()"
   ]
  },
  {
   "cell_type": "code",
   "execution_count": 22,
   "metadata": {},
   "outputs": [],
   "source": [
    "# Explore the relationship between two variables: alcohol and density"
   ]
  },
  {
   "cell_type": "code",
   "execution_count": 23,
   "metadata": {},
   "outputs": [
    {
     "data": {
      "text/plain": [
       "array([7, 6, 5, 4, 8, 3])"
      ]
     },
     "execution_count": 23,
     "metadata": {},
     "output_type": "execute_result"
    }
   ],
   "source": [
    "v = df_alcohol['quality'].unique()\n",
    "v"
   ]
  },
  {
   "cell_type": "code",
   "execution_count": 24,
   "metadata": {},
   "outputs": [],
   "source": [
    "m1 = df_alcohol['quality'] == v[0]\n",
    "m2 = df_alcohol['quality'] == v[1]\n",
    "m3 = df_alcohol['quality'] == v[2]\n",
    "m4 = df_alcohol['quality'] == v[3]\n",
    "m5 = df_alcohol['quality'] == v[4]\n",
    "m6 = df_alcohol['quality'] == v[5]"
   ]
  },
  {
   "cell_type": "code",
   "execution_count": 25,
   "metadata": {},
   "outputs": [
    {
     "data": {
      "text/plain": [
       "6    256\n",
       "5    182\n",
       "7    120\n",
       "4     23\n",
       "8     15\n",
       "3      4\n",
       "Name: quality, dtype: int64"
      ]
     },
     "execution_count": 25,
     "metadata": {},
     "output_type": "execute_result"
    }
   ],
   "source": [
    "df_alcohol['quality'].value_counts()"
   ]
  },
  {
   "cell_type": "code",
   "execution_count": 26,
   "metadata": {},
   "outputs": [],
   "source": [
    "colours_palette = {v[0]: 'red', v[1] :'blue', v[2]:'green', v[3]:'yellow', v[4]:'purple', v[5]:'orange'}"
   ]
  },
  {
   "cell_type": "code",
   "execution_count": 27,
   "metadata": {},
   "outputs": [
    {
     "data": {
      "image/png": "[encoded data removed]",
      "text/plain": [
       "<Figure size 640x480 with 1 Axes>"
      ]
     },
     "metadata": {},
     "output_type": "display_data"
    }
   ],
   "source": [
    "# Assigning colours to each quality label. New insights are found. \n",
    "colours = [colours_palette[c] for c in df_alcohol['quality']]\n",
    "df_alcohol.plot(kind='scatter', x='density', y='alcohol', c = colours)\n",
    "plt.title(\"Alcohol vs Density (separated by quality level out of 10)\")\n",
    "plt.ylabel(\"Alcohol percentage (%)\")\n",
    "plt.xlabel(\"Alcohol density (g / cm^3)\")\n",
    "plt.show()"
   ]
  },
  {
   "cell_type": "code",
   "execution_count": 28,
   "metadata": {},
   "outputs": [],
   "source": [
    "x = df_alcohol['density']\n",
    "y = df_alcohol['alcohol']"
   ]
  },
  {
   "cell_type": "code",
   "execution_count": 29,
   "metadata": {},
   "outputs": [],
   "source": [
    "from sklearn.linear_model import LinearRegression"
   ]
  },
  {
   "cell_type": "code",
   "execution_count": 30,
   "metadata": {},
   "outputs": [],
   "source": [
    "x = x.values.reshape(-1,1)\n",
    "y=y.values"
   ]
  },
  {
   "cell_type": "code",
   "execution_count": 31,
   "metadata": {},
   "outputs": [],
   "source": [
    "linear_model = LinearRegression()"
   ]
  },
  {
   "cell_type": "code",
   "execution_count": 32,
   "metadata": {},
   "outputs": [
    {
     "data": {
      "text/html": [
       "<style>#sk-container-id-1 {color: black;background-color: white;}#sk-container-id-1 pre{padding: 0;}#sk-container-id-1 div.sk-toggleable {background-color: white;}#sk-container-id-1 label.sk-toggleable__label {cursor: pointer;display: block;width: 100%;margin-bottom: 0;padding: 0.3em;box-sizing: border-box;text-align: center;}#sk-container-id-1 label.sk-toggleable__label-arrow:before {content: \"▸\";float: left;margin-right: 0.25em;color: #696969;}#sk-container-id-1 label.sk-toggleable__label-arrow:hover:before {color: black;}#sk-container-id-1 div.sk-estimator:hover label.sk-toggleable__label-arrow:before {color: black;}#sk-container-id-1 div.sk-toggleable__content {max-height: 0;max-width: 0;overflow: hidden;text-align: left;background-color: #f0f8ff;}#sk-container-id-1 div.sk-toggleable__content pre {margin: 0.2em;color: black;border-radius: 0.25em;background-color: #f0f8ff;}#sk-container-id-1 input.sk-toggleable__control:checked~div.sk-toggleable__content {max-height: 200px;max-width: 100%;overflow: auto;}#sk-container-id-1 input.sk-toggleable__control:checked~label.sk-toggleable__label-arrow:before {content: \"▾\";}#sk-container-id-1 div.sk-estimator input.sk-toggleable__control:checked~label.sk-toggleable__label {background-color: #d4ebff;}#sk-container-id-1 div.sk-label input.sk-toggleable__control:checked~label.sk-toggleable__label {background-color: #d4ebff;}#sk-container-id-1 input.sk-hidden--visually {border: 0;clip: rect(1px 1px 1px 1px);clip: rect(1px, 1px, 1px, 1px);height: 1px;margin: -1px;overflow: hidden;padding: 0;position: absolute;width: 1px;}#sk-container-id-1 div.sk-estimator {font-family: monospace;background-color: #f0f8ff;border: 1px dotted black;border-radius: 0.25em;box-sizing: border-box;margin-bottom: 0.5em;}#sk-container-id-1 div.sk-estimator:hover {background-color: #d4ebff;}#sk-container-id-1 div.sk-parallel-item::after {content: \"\";width: 100%;border-bottom: 1px solid gray;flex-grow: 1;}#sk-container-id-1 div.sk-label:hover label.sk-toggleable__label {background-color: #d4ebff;}#sk-container-id-1 div.sk-serial::before {content: \"\";position: absolute;border-left: 1px solid gray;box-sizing: border-box;top: 0;bottom: 0;left: 50%;z-index: 0;}#sk-container-id-1 div.sk-serial {display: flex;flex-direction: column;align-items: center;background-color: white;padding-right: 0.2em;padding-left: 0.2em;position: relative;}#sk-container-id-1 div.sk-item {position: relative;z-index: 1;}#sk-container-id-1 div.sk-parallel {display: flex;align-items: stretch;justify-content: center;background-color: white;position: relative;}#sk-container-id-1 div.sk-item::before, #sk-container-id-1 div.sk-parallel-item::before {content: \"\";position: absolute;border-left: 1px solid gray;box-sizing: border-box;top: 0;bottom: 0;left: 50%;z-index: -1;}#sk-container-id-1 div.sk-parallel-item {display: flex;flex-direction: column;z-index: 1;position: relative;background-color: white;}#sk-container-id-1 div.sk-parallel-item:first-child::after {align-self: flex-end;width: 50%;}#sk-container-id-1 div.sk-parallel-item:last-child::after {align-self: flex-start;width: 50%;}#sk-container-id-1 div.sk-parallel-item:only-child::after {width: 0;}#sk-container-id-1 div.sk-dashed-wrapped {border: 1px dashed gray;margin: 0 0.4em 0.5em 0.4em;box-sizing: border-box;padding-bottom: 0.4em;background-color: white;}#sk-container-id-1 div.sk-label label {font-family: monospace;font-weight: bold;display: inline-block;line-height: 1.2em;}#sk-container-id-1 div.sk-label-container {text-align: center;}#sk-container-id-1 div.sk-container {/* jupyter's `normalize.less` sets `[hidden] { display: none; }` but bootstrap.min.css set `[hidden] { display: none !important; }` so we also need the `!important` here to be able to override the default hidden behavior on the sphinx rendered scikit-learn.org. See: https://github.com/scikit-learn/scikit-learn/issues/21755 */display: inline-block !important;position: relative;}#sk-container-id-1 div.sk-text-repr-fallback {display: none;}</style><div id=\"sk-container-id-1\" class=\"sk-top-container\"><div class=\"sk-text-repr-fallback\"><pre>LinearRegression()</pre><b>In a Jupyter environment, please rerun this cell to show the HTML representation or trust the notebook. <br />On GitHub, the HTML representation is unable to render, please try loading this page with nbviewer.org.</b></div><div class=\"sk-container\" hidden><div class=\"sk-item\"><div class=\"sk-estimator sk-toggleable\"><input class=\"sk-toggleable__control sk-hidden--visually\" id=\"sk-estimator-id-1\" type=\"checkbox\" checked><label for=\"sk-estimator-id-1\" class=\"sk-toggleable__label sk-toggleable__label-arrow\">LinearRegression</label><div class=\"sk-toggleable__content\"><pre>LinearRegression()</pre></div></div></div></div></div>"
      ],
      "text/plain": [
       "LinearRegression()"
      ]
     },
     "execution_count": 32,
     "metadata": {},
     "output_type": "execute_result"
    }
   ],
   "source": [
    "linear_model.fit(x,y)"
   ]
  },
  {
   "cell_type": "code",
   "execution_count": 33,
   "metadata": {},
   "outputs": [],
   "source": [
    "import math"
   ]
  },
  {
   "cell_type": "code",
   "execution_count": 34,
   "metadata": {},
   "outputs": [
    {
     "data": {
      "text/html": [
       "<div>\n",
       "<style scoped>\n",
       "    .dataframe tbody tr th:only-of-type {\n",
       "        vertical-align: middle;\n",
       "    }\n",
       "\n",
       "    .dataframe tbody tr th {\n",
       "        vertical-align: top;\n",
       "    }\n",
       "\n",
       "    .dataframe thead th {\n",
       "        text-align: right;\n",
       "    }\n",
       "</style>\n",
       "<table border=\"1\" class=\"dataframe\">\n",
       "  <thead>\n",
       "    <tr style=\"text-align: right;\">\n",
       "      <th></th>\n",
       "      <th>fixed acidity</th>\n",
       "      <th>volatile acidity</th>\n",
       "      <th>citric acid</th>\n",
       "      <th>residual sugar</th>\n",
       "      <th>chlorides</th>\n",
       "      <th>free sulfur dioxide</th>\n",
       "      <th>total sulfur dioxide</th>\n",
       "      <th>density</th>\n",
       "      <th>pH</th>\n",
       "      <th>sulphates</th>\n",
       "      <th>alcohol</th>\n",
       "      <th>quality</th>\n",
       "    </tr>\n",
       "  </thead>\n",
       "  <tbody>\n",
       "    <tr>\n",
       "      <th>fixed acidity</th>\n",
       "      <td>1.000000</td>\n",
       "      <td>0.033674</td>\n",
       "      <td>0.342579</td>\n",
       "      <td>0.076493</td>\n",
       "      <td>-0.041677</td>\n",
       "      <td>-0.087212</td>\n",
       "      <td>0.151425</td>\n",
       "      <td>0.287949</td>\n",
       "      <td>-0.455509</td>\n",
       "      <td>0.044353</td>\n",
       "      <td>-0.105276</td>\n",
       "      <td>-0.148776</td>\n",
       "    </tr>\n",
       "    <tr>\n",
       "      <th>volatile acidity</th>\n",
       "      <td>0.033674</td>\n",
       "      <td>1.000000</td>\n",
       "      <td>-0.111649</td>\n",
       "      <td>0.059901</td>\n",
       "      <td>0.024041</td>\n",
       "      <td>-0.077488</td>\n",
       "      <td>0.177522</td>\n",
       "      <td>0.048785</td>\n",
       "      <td>-0.045385</td>\n",
       "      <td>0.092121</td>\n",
       "      <td>0.067588</td>\n",
       "      <td>-0.188851</td>\n",
       "    </tr>\n",
       "    <tr>\n",
       "      <th>citric acid</th>\n",
       "      <td>0.342579</td>\n",
       "      <td>-0.111649</td>\n",
       "      <td>1.000000</td>\n",
       "      <td>0.145619</td>\n",
       "      <td>0.112392</td>\n",
       "      <td>0.088424</td>\n",
       "      <td>0.141212</td>\n",
       "      <td>0.221880</td>\n",
       "      <td>-0.253039</td>\n",
       "      <td>0.004981</td>\n",
       "      <td>-0.146684</td>\n",
       "      <td>-0.109593</td>\n",
       "    </tr>\n",
       "    <tr>\n",
       "      <th>residual sugar</th>\n",
       "      <td>0.076493</td>\n",
       "      <td>0.059901</td>\n",
       "      <td>0.145619</td>\n",
       "      <td>1.000000</td>\n",
       "      <td>0.041586</td>\n",
       "      <td>0.317481</td>\n",
       "      <td>0.398989</td>\n",
       "      <td>0.814182</td>\n",
       "      <td>-0.190664</td>\n",
       "      <td>0.037463</td>\n",
       "      <td>-0.417051</td>\n",
       "      <td>-0.103351</td>\n",
       "    </tr>\n",
       "    <tr>\n",
       "      <th>chlorides</th>\n",
       "      <td>-0.041677</td>\n",
       "      <td>0.024041</td>\n",
       "      <td>0.112392</td>\n",
       "      <td>0.041586</td>\n",
       "      <td>1.000000</td>\n",
       "      <td>0.171100</td>\n",
       "      <td>0.198315</td>\n",
       "      <td>0.212520</td>\n",
       "      <td>-0.045632</td>\n",
       "      <td>-0.025732</td>\n",
       "      <td>-0.336592</td>\n",
       "      <td>-0.172333</td>\n",
       "    </tr>\n",
       "    <tr>\n",
       "      <th>free sulfur dioxide</th>\n",
       "      <td>-0.087212</td>\n",
       "      <td>-0.077488</td>\n",
       "      <td>0.088424</td>\n",
       "      <td>0.317481</td>\n",
       "      <td>0.171100</td>\n",
       "      <td>1.000000</td>\n",
       "      <td>0.540609</td>\n",
       "      <td>0.311900</td>\n",
       "      <td>-0.041616</td>\n",
       "      <td>-0.040648</td>\n",
       "      <td>-0.298498</td>\n",
       "      <td>-0.043512</td>\n",
       "    </tr>\n",
       "    <tr>\n",
       "      <th>total sulfur dioxide</th>\n",
       "      <td>0.151425</td>\n",
       "      <td>0.177522</td>\n",
       "      <td>0.141212</td>\n",
       "      <td>0.398989</td>\n",
       "      <td>0.198315</td>\n",
       "      <td>0.540609</td>\n",
       "      <td>1.000000</td>\n",
       "      <td>0.533252</td>\n",
       "      <td>-0.071867</td>\n",
       "      <td>0.160154</td>\n",
       "      <td>-0.426804</td>\n",
       "      <td>-0.208324</td>\n",
       "    </tr>\n",
       "    <tr>\n",
       "      <th>density</th>\n",
       "      <td>0.287949</td>\n",
       "      <td>0.048785</td>\n",
       "      <td>0.221880</td>\n",
       "      <td>0.814182</td>\n",
       "      <td>0.212520</td>\n",
       "      <td>0.311900</td>\n",
       "      <td>0.533252</td>\n",
       "      <td>1.000000</td>\n",
       "      <td>-0.150939</td>\n",
       "      <td>0.131058</td>\n",
       "      <td>-0.776658</td>\n",
       "      <td>-0.329682</td>\n",
       "    </tr>\n",
       "    <tr>\n",
       "      <th>pH</th>\n",
       "      <td>-0.455509</td>\n",
       "      <td>-0.045385</td>\n",
       "      <td>-0.253039</td>\n",
       "      <td>-0.190664</td>\n",
       "      <td>-0.045632</td>\n",
       "      <td>-0.041616</td>\n",
       "      <td>-0.071867</td>\n",
       "      <td>-0.150939</td>\n",
       "      <td>1.000000</td>\n",
       "      <td>0.131902</td>\n",
       "      <td>0.178226</td>\n",
       "      <td>0.188298</td>\n",
       "    </tr>\n",
       "    <tr>\n",
       "      <th>sulphates</th>\n",
       "      <td>0.044353</td>\n",
       "      <td>0.092121</td>\n",
       "      <td>0.004981</td>\n",
       "      <td>0.037463</td>\n",
       "      <td>-0.025732</td>\n",
       "      <td>-0.040648</td>\n",
       "      <td>0.160154</td>\n",
       "      <td>0.131058</td>\n",
       "      <td>0.131902</td>\n",
       "      <td>1.000000</td>\n",
       "      <td>-0.014363</td>\n",
       "      <td>0.055990</td>\n",
       "    </tr>\n",
       "    <tr>\n",
       "      <th>alcohol</th>\n",
       "      <td>-0.105276</td>\n",
       "      <td>0.067588</td>\n",
       "      <td>-0.146684</td>\n",
       "      <td>-0.417051</td>\n",
       "      <td>-0.336592</td>\n",
       "      <td>-0.298498</td>\n",
       "      <td>-0.426804</td>\n",
       "      <td>-0.776658</td>\n",
       "      <td>0.178226</td>\n",
       "      <td>-0.014363</td>\n",
       "      <td>1.000000</td>\n",
       "      <td>0.432636</td>\n",
       "    </tr>\n",
       "    <tr>\n",
       "      <th>quality</th>\n",
       "      <td>-0.148776</td>\n",
       "      <td>-0.188851</td>\n",
       "      <td>-0.109593</td>\n",
       "      <td>-0.103351</td>\n",
       "      <td>-0.172333</td>\n",
       "      <td>-0.043512</td>\n",
       "      <td>-0.208324</td>\n",
       "      <td>-0.329682</td>\n",
       "      <td>0.188298</td>\n",
       "      <td>0.055990</td>\n",
       "      <td>0.432636</td>\n",
       "      <td>1.000000</td>\n",
       "    </tr>\n",
       "  </tbody>\n",
       "</table>\n",
       "</div>"
      ],
      "text/plain": [
       "                      fixed acidity  volatile acidity  citric acid  \\\n",
       "fixed acidity              1.000000          0.033674     0.342579   \n",
       "volatile acidity           0.033674          1.000000    -0.111649   \n",
       "citric acid                0.342579         -0.111649     1.000000   \n",
       "residual sugar             0.076493          0.059901     0.145619   \n",
       "chlorides                 -0.041677          0.024041     0.112392   \n",
       "free sulfur dioxide       -0.087212         -0.077488     0.088424   \n",
       "total sulfur dioxide       0.151425          0.177522     0.141212   \n",
       "density                    0.287949          0.048785     0.221880   \n",
       "pH                        -0.455509         -0.045385    -0.253039   \n",
       "sulphates                  0.044353          0.092121     0.004981   \n",
       "alcohol                   -0.105276          0.067588    -0.146684   \n",
       "quality                   -0.148776         -0.188851    -0.109593   \n",
       "\n",
       "                      residual sugar  chlorides  free sulfur dioxide  \\\n",
       "fixed acidity               0.076493  -0.041677            -0.087212   \n",
       "volatile acidity            0.059901   0.024041            -0.077488   \n",
       "citric acid                 0.145619   0.112392             0.088424   \n",
       "residual sugar              1.000000   0.041586             0.317481   \n",
       "chlorides                   0.041586   1.000000             0.171100   \n",
       "free sulfur dioxide         0.317481   0.171100             1.000000   \n",
       "total sulfur dioxide        0.398989   0.198315             0.540609   \n",
       "density                     0.814182   0.212520             0.311900   \n",
       "pH                         -0.190664  -0.045632            -0.041616   \n",
       "sulphates                   0.037463  -0.025732            -0.040648   \n",
       "alcohol                    -0.417051  -0.336592            -0.298498   \n",
       "quality                    -0.103351  -0.172333            -0.043512   \n",
       "\n",
       "                      total sulfur dioxide   density        pH  sulphates  \\\n",
       "fixed acidity                     0.151425  0.287949 -0.455509   0.044353   \n",
       "volatile acidity                  0.177522  0.048785 -0.045385   0.092121   \n",
       "citric acid                       0.141212  0.221880 -0.253039   0.004981   \n",
       "residual sugar                    0.398989  0.814182 -0.190664   0.037463   \n",
       "chlorides                         0.198315  0.212520 -0.045632  -0.025732   \n",
       "free sulfur dioxide               0.540609  0.311900 -0.041616  -0.040648   \n",
       "total sulfur dioxide              1.000000  0.533252 -0.071867   0.160154   \n",
       "density                           0.533252  1.000000 -0.150939   0.131058   \n",
       "pH                               -0.071867 -0.150939  1.000000   0.131902   \n",
       "sulphates                         0.160154  0.131058  0.131902   1.000000   \n",
       "alcohol                          -0.426804 -0.776658  0.178226  -0.014363   \n",
       "quality                          -0.208324 -0.329682  0.188298   0.055990   \n",
       "\n",
       "                       alcohol   quality  \n",
       "fixed acidity        -0.105276 -0.148776  \n",
       "volatile acidity      0.067588 -0.188851  \n",
       "citric acid          -0.146684 -0.109593  \n",
       "residual sugar       -0.417051 -0.103351  \n",
       "chlorides            -0.336592 -0.172333  \n",
       "free sulfur dioxide  -0.298498 -0.043512  \n",
       "total sulfur dioxide -0.426804 -0.208324  \n",
       "density              -0.776658 -0.329682  \n",
       "pH                    0.178226  0.188298  \n",
       "sulphates            -0.014363  0.055990  \n",
       "alcohol               1.000000  0.432636  \n",
       "quality               0.432636  1.000000  "
      ]
     },
     "execution_count": 34,
     "metadata": {},
     "output_type": "execute_result"
    }
   ],
   "source": [
    " df_alcohol.corr()"
   ]
  },
  {
   "cell_type": "code",
   "execution_count": 35,
   "metadata": {},
   "outputs": [
    {
     "name": "stdout",
     "output_type": "stream",
     "text": [
      "R-squared value: 0.603\n",
      "Correlation coefficient: -0.777\n"
     ]
    }
   ],
   "source": [
    "r2_score = linear_model.score(x, y)\n",
    "print(f\"R-squared value: {r2_score:.3f}\")\n",
    "r_score = math.sqrt(r2_score.round(3))\n",
    "print(f\"Correlation coefficient: -{r_score:.3f}\")"
   ]
  },
  {
   "cell_type": "markdown",
   "metadata": {
    "id": "u-EEv9utoT69"
   },
   "source": [
    "## Task 1.3\n"
   ]
  },
  {
   "cell_type": "code",
   "execution_count": 36,
   "metadata": {},
   "outputs": [
    {
     "data": {
      "image/png": "[encoded data removed]",
      "text/plain": [
       "<Figure size 640x480 with 1 Axes>"
      ]
     },
     "metadata": {},
     "output_type": "display_data"
    }
   ],
   "source": [
    "df_alcohol.boxplot(column='alcohol', by='quality', showfliers = False)\n",
    "plt.title('\\n')\n",
    "plt.ylabel(\"Alcohol Percentage (%)\")\n",
    "plt.xlabel(\"Alcohol Quality\")\n",
    "plt.show()"
   ]
  },
  {
   "cell_type": "markdown",
   "metadata": {
    "id": "r-i5aIqXpPbu"
   },
   "source": [
    "# Task 2: Classification"
   ]
  },
  {
   "cell_type": "markdown",
   "metadata": {
    "id": "QOY4K_neos9j"
   },
   "source": [
    "## Task 2.1 "
   ]
  },
  {
   "cell_type": "code",
   "execution_count": 37,
   "metadata": {},
   "outputs": [],
   "source": [
    "from sklearn.neighbors import KNeighborsClassifier\n",
    "from sklearn.model_selection import train_test_split\n",
    "from sklearn.metrics import classification_report\n",
    "from sklearn.metrics import confusion_matrix\n",
    "from sklearn.metrics import accuracy_score\n",
    "from sklearn.metrics import f1_score\n",
    "from sklearn.preprocessing import StandardScaler"
   ]
  },
  {
   "cell_type": "code",
   "execution_count": 38,
   "metadata": {},
   "outputs": [],
   "source": [
    "X = df_alcohol.iloc[:, 0:11]"
   ]
  },
  {
   "cell_type": "code",
   "execution_count": 39,
   "metadata": {},
   "outputs": [
    {
     "name": "stdout",
     "output_type": "stream",
     "text": [
      "(600, 11)\n"
     ]
    },
    {
     "data": {
      "text/html": [
       "<div>\n",
       "<style scoped>\n",
       "    .dataframe tbody tr th:only-of-type {\n",
       "        vertical-align: middle;\n",
       "    }\n",
       "\n",
       "    .dataframe tbody tr th {\n",
       "        vertical-align: top;\n",
       "    }\n",
       "\n",
       "    .dataframe thead th {\n",
       "        text-align: right;\n",
       "    }\n",
       "</style>\n",
       "<table border=\"1\" class=\"dataframe\">\n",
       "  <thead>\n",
       "    <tr style=\"text-align: right;\">\n",
       "      <th></th>\n",
       "      <th>fixed acidity</th>\n",
       "      <th>volatile acidity</th>\n",
       "      <th>citric acid</th>\n",
       "      <th>residual sugar</th>\n",
       "      <th>chlorides</th>\n",
       "      <th>free sulfur dioxide</th>\n",
       "      <th>total sulfur dioxide</th>\n",
       "      <th>density</th>\n",
       "      <th>pH</th>\n",
       "      <th>sulphates</th>\n",
       "      <th>alcohol</th>\n",
       "    </tr>\n",
       "  </thead>\n",
       "  <tbody>\n",
       "    <tr>\n",
       "      <th>0</th>\n",
       "      <td>6.6</td>\n",
       "      <td>0.21</td>\n",
       "      <td>0.29</td>\n",
       "      <td>5.35</td>\n",
       "      <td>0.029</td>\n",
       "      <td>43.0</td>\n",
       "      <td>106.0</td>\n",
       "      <td>0.99112</td>\n",
       "      <td>2.93</td>\n",
       "      <td>0.43</td>\n",
       "      <td>11.5</td>\n",
       "    </tr>\n",
       "    <tr>\n",
       "      <th>1</th>\n",
       "      <td>6.7</td>\n",
       "      <td>0.26</td>\n",
       "      <td>0.39</td>\n",
       "      <td>6.40</td>\n",
       "      <td>0.171</td>\n",
       "      <td>64.0</td>\n",
       "      <td>200.0</td>\n",
       "      <td>0.99562</td>\n",
       "      <td>3.19</td>\n",
       "      <td>0.38</td>\n",
       "      <td>9.4</td>\n",
       "    </tr>\n",
       "    <tr>\n",
       "      <th>2</th>\n",
       "      <td>7.5</td>\n",
       "      <td>0.14</td>\n",
       "      <td>0.34</td>\n",
       "      <td>1.30</td>\n",
       "      <td>0.055</td>\n",
       "      <td>50.0</td>\n",
       "      <td>153.0</td>\n",
       "      <td>0.99450</td>\n",
       "      <td>3.29</td>\n",
       "      <td>0.80</td>\n",
       "      <td>9.6</td>\n",
       "    </tr>\n",
       "    <tr>\n",
       "      <th>3</th>\n",
       "      <td>7.0</td>\n",
       "      <td>0.35</td>\n",
       "      <td>0.17</td>\n",
       "      <td>1.10</td>\n",
       "      <td>0.049</td>\n",
       "      <td>7.0</td>\n",
       "      <td>119.0</td>\n",
       "      <td>0.99297</td>\n",
       "      <td>3.13</td>\n",
       "      <td>0.36</td>\n",
       "      <td>9.7</td>\n",
       "    </tr>\n",
       "    <tr>\n",
       "      <th>4</th>\n",
       "      <td>8.1</td>\n",
       "      <td>0.22</td>\n",
       "      <td>0.28</td>\n",
       "      <td>7.70</td>\n",
       "      <td>0.043</td>\n",
       "      <td>57.0</td>\n",
       "      <td>176.0</td>\n",
       "      <td>0.99540</td>\n",
       "      <td>3.12</td>\n",
       "      <td>0.55</td>\n",
       "      <td>10.0</td>\n",
       "    </tr>\n",
       "  </tbody>\n",
       "</table>\n",
       "</div>"
      ],
      "text/plain": [
       "   fixed acidity  volatile acidity  citric acid  residual sugar  chlorides  \\\n",
       "0            6.6              0.21         0.29            5.35      0.029   \n",
       "1            6.7              0.26         0.39            6.40      0.171   \n",
       "2            7.5              0.14         0.34            1.30      0.055   \n",
       "3            7.0              0.35         0.17            1.10      0.049   \n",
       "4            8.1              0.22         0.28            7.70      0.043   \n",
       "\n",
       "   free sulfur dioxide  total sulfur dioxide  density    pH  sulphates  \\\n",
       "0                 43.0                 106.0  0.99112  2.93       0.43   \n",
       "1                 64.0                 200.0  0.99562  3.19       0.38   \n",
       "2                 50.0                 153.0  0.99450  3.29       0.80   \n",
       "3                  7.0                 119.0  0.99297  3.13       0.36   \n",
       "4                 57.0                 176.0  0.99540  3.12       0.55   \n",
       "\n",
       "   alcohol  \n",
       "0     11.5  \n",
       "1      9.4  \n",
       "2      9.6  \n",
       "3      9.7  \n",
       "4     10.0  "
      ]
     },
     "execution_count": 39,
     "metadata": {},
     "output_type": "execute_result"
    }
   ],
   "source": [
    "print(X.shape)\n",
    "X.head()"
   ]
  },
  {
   "cell_type": "code",
   "execution_count": 40,
   "metadata": {},
   "outputs": [],
   "source": [
    "#Standardising the data \n",
    "scaler = StandardScaler()\n",
    "X_scaled = scaler.fit_transform(X)"
   ]
  },
  {
   "cell_type": "code",
   "execution_count": 41,
   "metadata": {},
   "outputs": [],
   "source": [
    "# Setting target feature\n",
    "y = df_alcohol.iloc[:,-1]"
   ]
  },
  {
   "cell_type": "code",
   "execution_count": 42,
   "metadata": {},
   "outputs": [
    {
     "name": "stdout",
     "output_type": "stream",
     "text": [
      "(600,)\n"
     ]
    },
    {
     "data": {
      "text/plain": [
       "0    7\n",
       "1    6\n",
       "2    6\n",
       "3    6\n",
       "4    5\n",
       "Name: quality, dtype: int64"
      ]
     },
     "execution_count": 42,
     "metadata": {},
     "output_type": "execute_result"
    }
   ],
   "source": [
    "print(y.shape)\n",
    "y.head()"
   ]
  },
  {
   "cell_type": "code",
   "execution_count": 43,
   "metadata": {},
   "outputs": [],
   "source": [
    "#Splitting the dataset into training and testing segments \n",
    "X_train,X_test,y_train,y_test = train_test_split(X_scaled,y,random_state = 3)"
   ]
  },
  {
   "cell_type": "code",
   "execution_count": 44,
   "metadata": {},
   "outputs": [],
   "source": [
    "clf_MODEL = KNeighborsClassifier()"
   ]
  },
  {
   "cell_type": "code",
   "execution_count": 45,
   "metadata": {},
   "outputs": [
    {
     "data": {
      "text/html": [
       "<style>#sk-container-id-2 {color: black;background-color: white;}#sk-container-id-2 pre{padding: 0;}#sk-container-id-2 div.sk-toggleable {background-color: white;}#sk-container-id-2 label.sk-toggleable__label {cursor: pointer;display: block;width: 100%;margin-bottom: 0;padding: 0.3em;box-sizing: border-box;text-align: center;}#sk-container-id-2 label.sk-toggleable__label-arrow:before {content: \"▸\";float: left;margin-right: 0.25em;color: #696969;}#sk-container-id-2 label.sk-toggleable__label-arrow:hover:before {color: black;}#sk-container-id-2 div.sk-estimator:hover label.sk-toggleable__label-arrow:before {color: black;}#sk-container-id-2 div.sk-toggleable__content {max-height: 0;max-width: 0;overflow: hidden;text-align: left;background-color: #f0f8ff;}#sk-container-id-2 div.sk-toggleable__content pre {margin: 0.2em;color: black;border-radius: 0.25em;background-color: #f0f8ff;}#sk-container-id-2 input.sk-toggleable__control:checked~div.sk-toggleable__content {max-height: 200px;max-width: 100%;overflow: auto;}#sk-container-id-2 input.sk-toggleable__control:checked~label.sk-toggleable__label-arrow:before {content: \"▾\";}#sk-container-id-2 div.sk-estimator input.sk-toggleable__control:checked~label.sk-toggleable__label {background-color: #d4ebff;}#sk-container-id-2 div.sk-label input.sk-toggleable__control:checked~label.sk-toggleable__label {background-color: #d4ebff;}#sk-container-id-2 input.sk-hidden--visually {border: 0;clip: rect(1px 1px 1px 1px);clip: rect(1px, 1px, 1px, 1px);height: 1px;margin: -1px;overflow: hidden;padding: 0;position: absolute;width: 1px;}#sk-container-id-2 div.sk-estimator {font-family: monospace;background-color: #f0f8ff;border: 1px dotted black;border-radius: 0.25em;box-sizing: border-box;margin-bottom: 0.5em;}#sk-container-id-2 div.sk-estimator:hover {background-color: #d4ebff;}#sk-container-id-2 div.sk-parallel-item::after {content: \"\";width: 100%;border-bottom: 1px solid gray;flex-grow: 1;}#sk-container-id-2 div.sk-label:hover label.sk-toggleable__label {background-color: #d4ebff;}#sk-container-id-2 div.sk-serial::before {content: \"\";position: absolute;border-left: 1px solid gray;box-sizing: border-box;top: 0;bottom: 0;left: 50%;z-index: 0;}#sk-container-id-2 div.sk-serial {display: flex;flex-direction: column;align-items: center;background-color: white;padding-right: 0.2em;padding-left: 0.2em;position: relative;}#sk-container-id-2 div.sk-item {position: relative;z-index: 1;}#sk-container-id-2 div.sk-parallel {display: flex;align-items: stretch;justify-content: center;background-color: white;position: relative;}#sk-container-id-2 div.sk-item::before, #sk-container-id-2 div.sk-parallel-item::before {content: \"\";position: absolute;border-left: 1px solid gray;box-sizing: border-box;top: 0;bottom: 0;left: 50%;z-index: -1;}#sk-container-id-2 div.sk-parallel-item {display: flex;flex-direction: column;z-index: 1;position: relative;background-color: white;}#sk-container-id-2 div.sk-parallel-item:first-child::after {align-self: flex-end;width: 50%;}#sk-container-id-2 div.sk-parallel-item:last-child::after {align-self: flex-start;width: 50%;}#sk-container-id-2 div.sk-parallel-item:only-child::after {width: 0;}#sk-container-id-2 div.sk-dashed-wrapped {border: 1px dashed gray;margin: 0 0.4em 0.5em 0.4em;box-sizing: border-box;padding-bottom: 0.4em;background-color: white;}#sk-container-id-2 div.sk-label label {font-family: monospace;font-weight: bold;display: inline-block;line-height: 1.2em;}#sk-container-id-2 div.sk-label-container {text-align: center;}#sk-container-id-2 div.sk-container {/* jupyter's `normalize.less` sets `[hidden] { display: none; }` but bootstrap.min.css set `[hidden] { display: none !important; }` so we also need the `!important` here to be able to override the default hidden behavior on the sphinx rendered scikit-learn.org. See: https://github.com/scikit-learn/scikit-learn/issues/21755 */display: inline-block !important;position: relative;}#sk-container-id-2 div.sk-text-repr-fallback {display: none;}</style><div id=\"sk-container-id-2\" class=\"sk-top-container\"><div class=\"sk-text-repr-fallback\"><pre>KNeighborsClassifier()</pre><b>In a Jupyter environment, please rerun this cell to show the HTML representation or trust the notebook. <br />On GitHub, the HTML representation is unable to render, please try loading this page with nbviewer.org.</b></div><div class=\"sk-container\" hidden><div class=\"sk-item\"><div class=\"sk-estimator sk-toggleable\"><input class=\"sk-toggleable__control sk-hidden--visually\" id=\"sk-estimator-id-2\" type=\"checkbox\" checked><label for=\"sk-estimator-id-2\" class=\"sk-toggleable__label sk-toggleable__label-arrow\">KNeighborsClassifier</label><div class=\"sk-toggleable__content\"><pre>KNeighborsClassifier()</pre></div></div></div></div></div>"
      ],
      "text/plain": [
       "KNeighborsClassifier()"
      ]
     },
     "execution_count": 45,
     "metadata": {},
     "output_type": "execute_result"
    }
   ],
   "source": [
    "# Training the data\n",
    "clf_MODEL.fit(X_train,y_train)"
   ]
  },
  {
   "cell_type": "code",
   "execution_count": 46,
   "metadata": {},
   "outputs": [],
   "source": [
    "# Predicting the data\n",
    "y_predicted_data = clf_MODEL.predict(X_test)"
   ]
  },
  {
   "cell_type": "code",
   "execution_count": 47,
   "metadata": {},
   "outputs": [
    {
     "name": "stdout",
     "output_type": "stream",
     "text": [
      "Accuracy: 0.4666666666666667\n"
     ]
    }
   ],
   "source": [
    "print(\"Accuracy: \" + str(accuracy_score(y_predicted_data, y_test)))"
   ]
  },
  {
   "cell_type": "code",
   "execution_count": 48,
   "metadata": {},
   "outputs": [
    {
     "name": "stdout",
     "output_type": "stream",
     "text": [
      "[[ 0  0  0  0  0  0]\n",
      " [ 0  0  0  0  0  0]\n",
      " [ 1  0 21 16  3  0]\n",
      " [ 0  1 27 37 10  1]\n",
      " [ 0  1  0 16 12  3]\n",
      " [ 0  0  0  1  0  0]]\n"
     ]
    }
   ],
   "source": [
    "print(confusion_matrix(y_predicted_data, y_test))"
   ]
  },
  {
   "cell_type": "code",
   "execution_count": 49,
   "metadata": {},
   "outputs": [
    {
     "name": "stdout",
     "output_type": "stream",
     "text": [
      "              precision    recall  f1-score   support\n",
      "\n",
      "           3       0.00      0.00      0.00         0\n",
      "           4       0.00      0.00      0.00         0\n",
      "           5       0.44      0.51      0.47        41\n",
      "           6       0.53      0.49      0.51        76\n",
      "           7       0.48      0.38      0.42        32\n",
      "           8       0.00      0.00      0.00         1\n",
      "\n",
      "    accuracy                           0.47       150\n",
      "   macro avg       0.24      0.23      0.23       150\n",
      "weighted avg       0.49      0.47      0.48       150\n",
      "\n"
     ]
    },
    {
     "name": "stderr",
     "output_type": "stream",
     "text": [
      "/Users/issaczerihun/anaconda3/lib/python3.11/site-packages/sklearn/metrics/_classification.py:1344: UndefinedMetricWarning: Recall and F-score are ill-defined and being set to 0.0 in labels with no true samples. Use `zero_division` parameter to control this behavior.\n",
      "  _warn_prf(average, modifier, msg_start, len(result))\n",
      "/Users/issaczerihun/anaconda3/lib/python3.11/site-packages/sklearn/metrics/_classification.py:1344: UndefinedMetricWarning: Recall and F-score are ill-defined and being set to 0.0 in labels with no true samples. Use `zero_division` parameter to control this behavior.\n",
      "  _warn_prf(average, modifier, msg_start, len(result))\n",
      "/Users/issaczerihun/anaconda3/lib/python3.11/site-packages/sklearn/metrics/_classification.py:1344: UndefinedMetricWarning: Recall and F-score are ill-defined and being set to 0.0 in labels with no true samples. Use `zero_division` parameter to control this behavior.\n",
      "  _warn_prf(average, modifier, msg_start, len(result))\n"
     ]
    }
   ],
   "source": [
    "print(classification_report(y_predicted_data, y_test))"
   ]
  },
  {
   "cell_type": "markdown",
   "metadata": {
    "id": "0-HLFaWTo7Gr"
   },
   "source": [
    "## Task 2.2 "
   ]
  },
  {
   "cell_type": "code",
   "execution_count": 50,
   "metadata": {},
   "outputs": [
    {
     "name": "stdout",
     "output_type": "stream",
     "text": [
      "--------------------------------------------------------------------------------------\n",
      "KNN Performance when k = 3\n",
      "\n",
      "Accuracy: 0.36666666666666664\n",
      "\n",
      "\n",
      "\n",
      "              precision    recall  f1-score   support\n",
      "\n",
      "           3       0.00      0.00      0.00         0\n",
      "           4       0.00      0.00      0.00         6\n",
      "           5       0.33      0.36      0.34        45\n",
      "           6       0.40      0.42      0.41        67\n",
      "           7       0.44      0.34      0.39        32\n",
      "           8       0.00      0.00      0.00         0\n",
      "\n",
      "    accuracy                           0.37       150\n",
      "   macro avg       0.20      0.19      0.19       150\n",
      "weighted avg       0.37      0.37      0.37       150\n",
      "\n"
     ]
    },
    {
     "name": "stderr",
     "output_type": "stream",
     "text": [
      "/Users/issaczerihun/anaconda3/lib/python3.11/site-packages/sklearn/metrics/_classification.py:1344: UndefinedMetricWarning: Recall and F-score are ill-defined and being set to 0.0 in labels with no true samples. Use `zero_division` parameter to control this behavior.\n",
      "  _warn_prf(average, modifier, msg_start, len(result))\n",
      "/Users/issaczerihun/anaconda3/lib/python3.11/site-packages/sklearn/metrics/_classification.py:1344: UndefinedMetricWarning: Recall and F-score are ill-defined and being set to 0.0 in labels with no true samples. Use `zero_division` parameter to control this behavior.\n",
      "  _warn_prf(average, modifier, msg_start, len(result))\n",
      "/Users/issaczerihun/anaconda3/lib/python3.11/site-packages/sklearn/metrics/_classification.py:1344: UndefinedMetricWarning: Recall and F-score are ill-defined and being set to 0.0 in labels with no true samples. Use `zero_division` parameter to control this behavior.\n",
      "  _warn_prf(average, modifier, msg_start, len(result))\n"
     ]
    }
   ],
   "source": [
    "# Evaluating performance for all odd values of k from 3 to 11 *(and 41)\n",
    "\n",
    "print(\"--------------------------------------------------------------------------------------\")\n",
    "print(f\"KNN Performance when k = 3\\n\")\n",
    "clf_MODEL = KNeighborsClassifier(3)\n",
    "trained_data = clf_MODEL.fit(X_train,y_train)\n",
    "y_predicted_data = clf_MODEL.predict(X_test)\n",
    "print(\"Accuracy: \" + str(accuracy_score(y_predicted_data, y_test))+ '\\n')\n",
    "print('\\n')\n",
    "report = classification_report(y_predicted_data, y_test)\n",
    "print(report)"
   ]
  },
  {
   "cell_type": "code",
   "execution_count": 51,
   "metadata": {},
   "outputs": [
    {
     "name": "stdout",
     "output_type": "stream",
     "text": [
      "--------------------------------------------------------------------------------------\n",
      "KNN Performance when k = 5\n",
      "\n",
      "Accuracy: 0.4666666666666667\n",
      "\n",
      "\n",
      "\n",
      "              precision    recall  f1-score   support\n",
      "\n",
      "           3       0.00      0.00      0.00         0\n",
      "           4       0.00      0.00      0.00         0\n",
      "           5       0.44      0.51      0.47        41\n",
      "           6       0.53      0.49      0.51        76\n",
      "           7       0.48      0.38      0.42        32\n",
      "           8       0.00      0.00      0.00         1\n",
      "\n",
      "    accuracy                           0.47       150\n",
      "   macro avg       0.24      0.23      0.23       150\n",
      "weighted avg       0.49      0.47      0.48       150\n",
      "\n"
     ]
    },
    {
     "name": "stderr",
     "output_type": "stream",
     "text": [
      "/Users/issaczerihun/anaconda3/lib/python3.11/site-packages/sklearn/metrics/_classification.py:1344: UndefinedMetricWarning: Recall and F-score are ill-defined and being set to 0.0 in labels with no true samples. Use `zero_division` parameter to control this behavior.\n",
      "  _warn_prf(average, modifier, msg_start, len(result))\n",
      "/Users/issaczerihun/anaconda3/lib/python3.11/site-packages/sklearn/metrics/_classification.py:1344: UndefinedMetricWarning: Recall and F-score are ill-defined and being set to 0.0 in labels with no true samples. Use `zero_division` parameter to control this behavior.\n",
      "  _warn_prf(average, modifier, msg_start, len(result))\n",
      "/Users/issaczerihun/anaconda3/lib/python3.11/site-packages/sklearn/metrics/_classification.py:1344: UndefinedMetricWarning: Recall and F-score are ill-defined and being set to 0.0 in labels with no true samples. Use `zero_division` parameter to control this behavior.\n",
      "  _warn_prf(average, modifier, msg_start, len(result))\n"
     ]
    }
   ],
   "source": [
    "print(\"--------------------------------------------------------------------------------------\")\n",
    "print(f\"KNN Performance when k = 5\\n\")\n",
    "clf_MODEL = KNeighborsClassifier(5)\n",
    "trained_data = clf_MODEL.fit(X_train,y_train)\n",
    "y_predicted_data = clf_MODEL.predict(X_test)\n",
    "print(\"Accuracy: \" + str(accuracy_score(y_predicted_data, y_test))+ '\\n')\n",
    "print('\\n')\n",
    "report = classification_report(y_predicted_data, y_test)\n",
    "print(report)"
   ]
  },
  {
   "cell_type": "code",
   "execution_count": 52,
   "metadata": {},
   "outputs": [
    {
     "name": "stdout",
     "output_type": "stream",
     "text": [
      "--------------------------------------------------------------------------------------\n",
      "KNN Performance when k = 7\n",
      "\n"
     ]
    },
    {
     "name": "stderr",
     "output_type": "stream",
     "text": [
      "/Users/issaczerihun/anaconda3/lib/python3.11/site-packages/sklearn/metrics/_classification.py:1344: UndefinedMetricWarning: Recall and F-score are ill-defined and being set to 0.0 in labels with no true samples. Use `zero_division` parameter to control this behavior.\n",
      "  _warn_prf(average, modifier, msg_start, len(result))\n",
      "/Users/issaczerihun/anaconda3/lib/python3.11/site-packages/sklearn/metrics/_classification.py:1344: UndefinedMetricWarning: Recall and F-score are ill-defined and being set to 0.0 in labels with no true samples. Use `zero_division` parameter to control this behavior.\n",
      "  _warn_prf(average, modifier, msg_start, len(result))\n"
     ]
    },
    {
     "name": "stdout",
     "output_type": "stream",
     "text": [
      "Accuracy: 0.44\n",
      "\n",
      "\n",
      "\n",
      "              precision    recall  f1-score   support\n",
      "\n",
      "           3       0.00      0.00      0.00         0\n",
      "           4       0.00      0.00      0.00         0\n",
      "           5       0.42      0.50      0.45        40\n",
      "           6       0.51      0.46      0.48        79\n",
      "           7       0.40      0.32      0.36        31\n",
      "           8       0.00      0.00      0.00         0\n",
      "\n",
      "    accuracy                           0.44       150\n",
      "   macro avg       0.22      0.21      0.22       150\n",
      "weighted avg       0.46      0.44      0.45       150\n",
      "\n"
     ]
    },
    {
     "name": "stderr",
     "output_type": "stream",
     "text": [
      "/Users/issaczerihun/anaconda3/lib/python3.11/site-packages/sklearn/metrics/_classification.py:1344: UndefinedMetricWarning: Recall and F-score are ill-defined and being set to 0.0 in labels with no true samples. Use `zero_division` parameter to control this behavior.\n",
      "  _warn_prf(average, modifier, msg_start, len(result))\n"
     ]
    }
   ],
   "source": [
    "print(\"--------------------------------------------------------------------------------------\")\n",
    "print(f\"KNN Performance when k = 7\\n\")\n",
    "clf_MODEL = KNeighborsClassifier(7)\n",
    "trained_data = clf_MODEL.fit(X_train,y_train)\n",
    "y_predicted_data = clf_MODEL.predict(X_test)\n",
    "print(\"Accuracy: \" + str(accuracy_score(y_predicted_data, y_test))+ '\\n')\n",
    "print('\\n')\n",
    "report = classification_report(y_predicted_data, y_test)\n",
    "print(report)"
   ]
  },
  {
   "cell_type": "code",
   "execution_count": 53,
   "metadata": {},
   "outputs": [
    {
     "name": "stdout",
     "output_type": "stream",
     "text": [
      "--------------------------------------------------------------------------------------\n",
      "KNN Performance when k = 9\n",
      "\n",
      "Accuracy: 0.46\n",
      "\n",
      "\n",
      "\n",
      "              precision    recall  f1-score   support\n",
      "\n",
      "           3       0.00      0.00      0.00         0\n",
      "           4       0.00      0.00      0.00         0\n",
      "           5       0.46      0.52      0.49        42\n",
      "           6       0.53      0.47      0.50        78\n",
      "           7       0.40      0.33      0.36        30\n",
      "           8       0.00      0.00      0.00         0\n",
      "\n",
      "    accuracy                           0.46       150\n",
      "   macro avg       0.23      0.22      0.23       150\n",
      "weighted avg       0.48      0.46      0.47       150\n",
      "\n"
     ]
    },
    {
     "name": "stderr",
     "output_type": "stream",
     "text": [
      "/Users/issaczerihun/anaconda3/lib/python3.11/site-packages/sklearn/metrics/_classification.py:1344: UndefinedMetricWarning: Recall and F-score are ill-defined and being set to 0.0 in labels with no true samples. Use `zero_division` parameter to control this behavior.\n",
      "  _warn_prf(average, modifier, msg_start, len(result))\n",
      "/Users/issaczerihun/anaconda3/lib/python3.11/site-packages/sklearn/metrics/_classification.py:1344: UndefinedMetricWarning: Recall and F-score are ill-defined and being set to 0.0 in labels with no true samples. Use `zero_division` parameter to control this behavior.\n",
      "  _warn_prf(average, modifier, msg_start, len(result))\n",
      "/Users/issaczerihun/anaconda3/lib/python3.11/site-packages/sklearn/metrics/_classification.py:1344: UndefinedMetricWarning: Recall and F-score are ill-defined and being set to 0.0 in labels with no true samples. Use `zero_division` parameter to control this behavior.\n",
      "  _warn_prf(average, modifier, msg_start, len(result))\n"
     ]
    }
   ],
   "source": [
    "print(\"--------------------------------------------------------------------------------------\")\n",
    "print(f\"KNN Performance when k = 9\\n\")\n",
    "clf_MODEL = KNeighborsClassifier(9)\n",
    "trained_data = clf_MODEL.fit(X_train,y_train)\n",
    "y_predicted_data = clf_MODEL.predict(X_test)\n",
    "print(\"Accuracy: \" + str(accuracy_score(y_predicted_data, y_test))+ '\\n')\n",
    "print('\\n')\n",
    "report = classification_report(y_predicted_data, y_test)\n",
    "print(report)"
   ]
  },
  {
   "cell_type": "code",
   "execution_count": 54,
   "metadata": {},
   "outputs": [
    {
     "name": "stdout",
     "output_type": "stream",
     "text": [
      "--------------------------------------------------------------------------------------\n",
      "KNN Performance when k = 11\n",
      "\n",
      "Accuracy: 0.4866666666666667\n",
      "\n",
      "\n",
      "\n",
      "              precision    recall  f1-score   support\n",
      "\n",
      "           3       0.00      0.00      0.00         0\n",
      "           4       0.00      0.00      0.00         0\n",
      "           5       0.52      0.58      0.55        43\n",
      "           6       0.56      0.50      0.53        78\n",
      "           7       0.36      0.31      0.33        29\n",
      "           8       0.00      0.00      0.00         0\n",
      "\n",
      "    accuracy                           0.49       150\n",
      "   macro avg       0.24      0.23      0.23       150\n",
      "weighted avg       0.51      0.49      0.50       150\n",
      "\n"
     ]
    },
    {
     "name": "stderr",
     "output_type": "stream",
     "text": [
      "/Users/issaczerihun/anaconda3/lib/python3.11/site-packages/sklearn/metrics/_classification.py:1344: UndefinedMetricWarning: Recall and F-score are ill-defined and being set to 0.0 in labels with no true samples. Use `zero_division` parameter to control this behavior.\n",
      "  _warn_prf(average, modifier, msg_start, len(result))\n",
      "/Users/issaczerihun/anaconda3/lib/python3.11/site-packages/sklearn/metrics/_classification.py:1344: UndefinedMetricWarning: Recall and F-score are ill-defined and being set to 0.0 in labels with no true samples. Use `zero_division` parameter to control this behavior.\n",
      "  _warn_prf(average, modifier, msg_start, len(result))\n",
      "/Users/issaczerihun/anaconda3/lib/python3.11/site-packages/sklearn/metrics/_classification.py:1344: UndefinedMetricWarning: Recall and F-score are ill-defined and being set to 0.0 in labels with no true samples. Use `zero_division` parameter to control this behavior.\n",
      "  _warn_prf(average, modifier, msg_start, len(result))\n"
     ]
    }
   ],
   "source": [
    "print(\"--------------------------------------------------------------------------------------\")\n",
    "print(f\"KNN Performance when k = 11\\n\")\n",
    "clf_MODEL = KNeighborsClassifier(11)\n",
    "trained_data = clf_MODEL.fit(X_train,y_train)\n",
    "y_predicted_data = clf_MODEL.predict(X_test)\n",
    "print(\"Accuracy: \" + str(accuracy_score(y_predicted_data, y_test))+ '\\n')\n",
    "print('\\n')\n",
    "report = classification_report(y_predicted_data, y_test)\n",
    "print(report)"
   ]
  },
  {
   "cell_type": "code",
   "execution_count": 55,
   "metadata": {},
   "outputs": [
    {
     "name": "stdout",
     "output_type": "stream",
     "text": [
      "--------------------------------------------------------------------------------------\n",
      "\n",
      "KNN Performance when k = 11\n",
      "\n",
      "Accuracy: 0.52\n",
      "\n",
      "\n",
      "\n",
      "              precision    recall  f1-score   support\n",
      "\n",
      "           3       0.00      0.00      0.00         0\n",
      "           4       0.00      0.00      0.00         0\n",
      "           5       0.40      0.58      0.47        33\n",
      "           6       0.69      0.55      0.61        88\n",
      "           7       0.44      0.38      0.41        29\n",
      "           8       0.00      0.00      0.00         0\n",
      "\n",
      "    accuracy                           0.52       150\n",
      "   macro avg       0.25      0.25      0.25       150\n",
      "weighted avg       0.57      0.52      0.54       150\n",
      "\n"
     ]
    },
    {
     "name": "stderr",
     "output_type": "stream",
     "text": [
      "/Users/issaczerihun/anaconda3/lib/python3.11/site-packages/sklearn/metrics/_classification.py:1344: UndefinedMetricWarning: Recall and F-score are ill-defined and being set to 0.0 in labels with no true samples. Use `zero_division` parameter to control this behavior.\n",
      "  _warn_prf(average, modifier, msg_start, len(result))\n",
      "/Users/issaczerihun/anaconda3/lib/python3.11/site-packages/sklearn/metrics/_classification.py:1344: UndefinedMetricWarning: Recall and F-score are ill-defined and being set to 0.0 in labels with no true samples. Use `zero_division` parameter to control this behavior.\n",
      "  _warn_prf(average, modifier, msg_start, len(result))\n",
      "/Users/issaczerihun/anaconda3/lib/python3.11/site-packages/sklearn/metrics/_classification.py:1344: UndefinedMetricWarning: Recall and F-score are ill-defined and being set to 0.0 in labels with no true samples. Use `zero_division` parameter to control this behavior.\n",
      "  _warn_prf(average, modifier, msg_start, len(result))\n"
     ]
    }
   ],
   "source": [
    "print(\"--------------------------------------------------------------------------------------\\n\")\n",
    "print(f\"KNN Performance when k = 11\\n\")\n",
    "clf_MODEL = KNeighborsClassifier(41)\n",
    "trained_data = clf_MODEL.fit(X_train,y_train)\n",
    "y_predicted_data = clf_MODEL.predict(X_test)\n",
    "print(\"Accuracy: \" + str(accuracy_score(y_predicted_data, y_test))+ '\\n')\n",
    "print('\\n')\n",
    "print(classification_report(y_predicted_data, y_test))"
   ]
  },
  {
   "cell_type": "markdown",
   "metadata": {
    "id": "jnasiwOAo_RP"
   },
   "source": [
    "## Task 2.3 "
   ]
  },
  {
   "cell_type": "code",
   "execution_count": 56,
   "metadata": {},
   "outputs": [
    {
     "name": "stdout",
     "output_type": "stream",
     "text": [
      "--------------------------------------------------------------------------------------\n",
      "Accuracy: 0.5083333333333333\n",
      "\n",
      "[[ 0  0  0  0  0  0]\n",
      " [ 0  0  0  0  0  0]\n",
      " [ 1  1 13  6  3  0]\n",
      " [ 0  1 22 38 11  0]\n",
      " [ 0  0  2 10 10  2]\n",
      " [ 0  0  0  0  0  0]]\n",
      "\n",
      "\n",
      "              precision    recall  f1-score   support\n",
      "\n",
      "           3       0.00      0.00      0.00         0\n",
      "           4       0.00      0.00      0.00         0\n",
      "           5       0.35      0.54      0.43        24\n",
      "           6       0.70      0.53      0.60        72\n",
      "           7       0.42      0.42      0.42        24\n",
      "           8       0.00      0.00      0.00         0\n",
      "\n",
      "    accuracy                           0.51       120\n",
      "   macro avg       0.25      0.25      0.24       120\n",
      "weighted avg       0.58      0.51      0.53       120\n",
      "\n"
     ]
    },
    {
     "name": "stderr",
     "output_type": "stream",
     "text": [
      "/Users/issaczerihun/anaconda3/lib/python3.11/site-packages/sklearn/metrics/_classification.py:1344: UndefinedMetricWarning: Recall and F-score are ill-defined and being set to 0.0 in labels with no true samples. Use `zero_division` parameter to control this behavior.\n",
      "  _warn_prf(average, modifier, msg_start, len(result))\n",
      "/Users/issaczerihun/anaconda3/lib/python3.11/site-packages/sklearn/metrics/_classification.py:1344: UndefinedMetricWarning: Recall and F-score are ill-defined and being set to 0.0 in labels with no true samples. Use `zero_division` parameter to control this behavior.\n",
      "  _warn_prf(average, modifier, msg_start, len(result))\n",
      "/Users/issaczerihun/anaconda3/lib/python3.11/site-packages/sklearn/metrics/_classification.py:1344: UndefinedMetricWarning: Recall and F-score are ill-defined and being set to 0.0 in labels with no true samples. Use `zero_division` parameter to control this behavior.\n",
      "  _warn_prf(average, modifier, msg_start, len(result))\n"
     ]
    }
   ],
   "source": [
    "# Testing KNN with different train/test splits (test_size = 0.2 - 0.8)\n",
    "print(\"--------------------------------------------------------------------------------------\")\n",
    "\n",
    "X_train,X_test,y_train,y_test=train_test_split(X_scaled,y,test_size=0.2,random_state = 3)\n",
    "clf_MODEL = KNeighborsClassifier(41)\n",
    "trained_data = clf_MODEL.fit(X_train,y_train)\n",
    "y_predicted_data = clf_MODEL.predict(X_test)\n",
    "print(\"Accuracy: \" + str(accuracy_score(y_predicted_data, y_test))+ '\\n')\n",
    "print(confusion_matrix(y_predicted_data, y_test))\n",
    "print('\\n')\n",
    "print(classification_report(y_predicted_data, y_test))"
   ]
  },
  {
   "cell_type": "code",
   "execution_count": 57,
   "metadata": {},
   "outputs": [
    {
     "name": "stdout",
     "output_type": "stream",
     "text": [
      "Accuracy: 0.5277777777777778\n",
      "\n",
      "[[ 0  0  0  0  0  0]\n",
      " [ 0  0  0  0  0  0]\n",
      " [ 1  1 24 13  4  0]\n",
      " [ 0  1 29 54 16  3]\n",
      " [ 0  0  2 13 17  2]\n",
      " [ 0  0  0  0  0  0]]\n",
      "\n",
      "\n",
      "              precision    recall  f1-score   support\n",
      "\n",
      "           3       0.00      0.00      0.00         0\n",
      "           4       0.00      0.00      0.00         0\n",
      "           5       0.44      0.56      0.49        43\n",
      "           6       0.68      0.52      0.59       103\n",
      "           7       0.46      0.50      0.48        34\n",
      "           8       0.00      0.00      0.00         0\n",
      "\n",
      "    accuracy                           0.53       180\n",
      "   macro avg       0.26      0.26      0.26       180\n",
      "weighted avg       0.58      0.53      0.55       180\n",
      "\n"
     ]
    },
    {
     "name": "stderr",
     "output_type": "stream",
     "text": [
      "/Users/issaczerihun/anaconda3/lib/python3.11/site-packages/sklearn/metrics/_classification.py:1344: UndefinedMetricWarning: Recall and F-score are ill-defined and being set to 0.0 in labels with no true samples. Use `zero_division` parameter to control this behavior.\n",
      "  _warn_prf(average, modifier, msg_start, len(result))\n",
      "/Users/issaczerihun/anaconda3/lib/python3.11/site-packages/sklearn/metrics/_classification.py:1344: UndefinedMetricWarning: Recall and F-score are ill-defined and being set to 0.0 in labels with no true samples. Use `zero_division` parameter to control this behavior.\n",
      "  _warn_prf(average, modifier, msg_start, len(result))\n",
      "/Users/issaczerihun/anaconda3/lib/python3.11/site-packages/sklearn/metrics/_classification.py:1344: UndefinedMetricWarning: Recall and F-score are ill-defined and being set to 0.0 in labels with no true samples. Use `zero_division` parameter to control this behavior.\n",
      "  _warn_prf(average, modifier, msg_start, len(result))\n"
     ]
    }
   ],
   "source": [
    "X_train,X_test,y_train,y_test=train_test_split(X_scaled,y,test_size=0.3,random_state = 3)\n",
    "clf_MODEL = KNeighborsClassifier(41)\n",
    "trained_data = clf_MODEL.fit(X_train,y_train)\n",
    "y_predicted_data = clf_MODEL.predict(X_test)\n",
    "print(\"Accuracy: \" + str(accuracy_score(y_predicted_data, y_test))+ '\\n')\n",
    "print(confusion_matrix(y_predicted_data, y_test))\n",
    "print('\\n')\n",
    "print(classification_report(y_predicted_data, y_test))"
   ]
  },
  {
   "cell_type": "code",
   "execution_count": 58,
   "metadata": {},
   "outputs": [
    {
     "name": "stdout",
     "output_type": "stream",
     "text": [
      "Accuracy: 0.4666666666666667\n",
      "\n",
      "[[ 0  0  0  0  0  0]\n",
      " [ 0  0  0  0  0  0]\n",
      " [ 1  2 23 14  3  0]\n",
      " [ 0  4 54 69 20  2]\n",
      " [ 0  0  2 22 20  4]\n",
      " [ 0  0  0  0  0  0]]\n",
      "\n",
      "\n"
     ]
    },
    {
     "name": "stderr",
     "output_type": "stream",
     "text": [
      "/Users/issaczerihun/anaconda3/lib/python3.11/site-packages/sklearn/metrics/_classification.py:1344: UndefinedMetricWarning: Recall and F-score are ill-defined and being set to 0.0 in labels with no true samples. Use `zero_division` parameter to control this behavior.\n",
      "  _warn_prf(average, modifier, msg_start, len(result))\n"
     ]
    },
    {
     "name": "stdout",
     "output_type": "stream",
     "text": [
      "              precision    recall  f1-score   support\n",
      "\n",
      "           3       0.00      0.00      0.00         0\n",
      "           4       0.00      0.00      0.00         0\n",
      "           5       0.29      0.53      0.38        43\n",
      "           6       0.66      0.46      0.54       149\n",
      "           7       0.47      0.42      0.44        48\n",
      "           8       0.00      0.00      0.00         0\n",
      "\n",
      "    accuracy                           0.47       240\n",
      "   macro avg       0.24      0.24      0.23       240\n",
      "weighted avg       0.55      0.47      0.49       240\n",
      "\n"
     ]
    },
    {
     "name": "stderr",
     "output_type": "stream",
     "text": [
      "/Users/issaczerihun/anaconda3/lib/python3.11/site-packages/sklearn/metrics/_classification.py:1344: UndefinedMetricWarning: Recall and F-score are ill-defined and being set to 0.0 in labels with no true samples. Use `zero_division` parameter to control this behavior.\n",
      "  _warn_prf(average, modifier, msg_start, len(result))\n",
      "/Users/issaczerihun/anaconda3/lib/python3.11/site-packages/sklearn/metrics/_classification.py:1344: UndefinedMetricWarning: Recall and F-score are ill-defined and being set to 0.0 in labels with no true samples. Use `zero_division` parameter to control this behavior.\n",
      "  _warn_prf(average, modifier, msg_start, len(result))\n"
     ]
    }
   ],
   "source": [
    "X_train,X_test,y_train,y_test=train_test_split(X_scaled,y,test_size=0.4,random_state = 3)\n",
    "clf_MODEL = KNeighborsClassifier(41)\n",
    "trained_data = clf_MODEL.fit(X_train,y_train)\n",
    "y_predicted_data = clf_MODEL.predict(X_test)\n",
    "print(\"Accuracy: \" + str(accuracy_score(y_predicted_data, y_test))+ '\\n')\n",
    "print(confusion_matrix(y_predicted_data, y_test))\n",
    "print('\\n')\n",
    "print(classification_report(y_predicted_data, y_test))"
   ]
  },
  {
   "cell_type": "code",
   "execution_count": 59,
   "metadata": {},
   "outputs": [
    {
     "name": "stdout",
     "output_type": "stream",
     "text": [
      "Accuracy: 0.5\n",
      "\n",
      "[[ 0  0  0  0  0  0]\n",
      " [ 0  0  0  0  0  0]\n",
      " [ 1  3 37 25  4  0]\n",
      " [ 0  5 51 87 29  5]\n",
      " [ 0  0  2 21 26  4]\n",
      " [ 0  0  0  0  0  0]]\n",
      "\n",
      "\n",
      "              precision    recall  f1-score   support\n",
      "\n",
      "           3       0.00      0.00      0.00         0\n",
      "           4       0.00      0.00      0.00         0\n",
      "           5       0.41      0.53      0.46        70\n",
      "           6       0.65      0.49      0.56       177\n",
      "           7       0.44      0.49      0.46        53\n",
      "           8       0.00      0.00      0.00         0\n",
      "\n",
      "    accuracy                           0.50       300\n",
      "   macro avg       0.25      0.25      0.25       300\n",
      "weighted avg       0.56      0.50      0.52       300\n",
      "\n"
     ]
    },
    {
     "name": "stderr",
     "output_type": "stream",
     "text": [
      "/Users/issaczerihun/anaconda3/lib/python3.11/site-packages/sklearn/metrics/_classification.py:1344: UndefinedMetricWarning: Recall and F-score are ill-defined and being set to 0.0 in labels with no true samples. Use `zero_division` parameter to control this behavior.\n",
      "  _warn_prf(average, modifier, msg_start, len(result))\n",
      "/Users/issaczerihun/anaconda3/lib/python3.11/site-packages/sklearn/metrics/_classification.py:1344: UndefinedMetricWarning: Recall and F-score are ill-defined and being set to 0.0 in labels with no true samples. Use `zero_division` parameter to control this behavior.\n",
      "  _warn_prf(average, modifier, msg_start, len(result))\n",
      "/Users/issaczerihun/anaconda3/lib/python3.11/site-packages/sklearn/metrics/_classification.py:1344: UndefinedMetricWarning: Recall and F-score are ill-defined and being set to 0.0 in labels with no true samples. Use `zero_division` parameter to control this behavior.\n",
      "  _warn_prf(average, modifier, msg_start, len(result))\n"
     ]
    }
   ],
   "source": [
    "X_train,X_test,y_train,y_test=train_test_split(X_scaled,y,test_size=0.5,random_state = 3)\n",
    "clf_MODEL = KNeighborsClassifier(41)\n",
    "trained_data = clf_MODEL.fit(X_train,y_train)\n",
    "y_predicted_data = clf_MODEL.predict(X_test)\n",
    "print(\"Accuracy: \" + str(accuracy_score(y_predicted_data, y_test))+ '\\n')\n",
    "print(confusion_matrix(y_predicted_data, y_test))\n",
    "print('\\n')\n",
    "print(classification_report(y_predicted_data, y_test))"
   ]
  },
  {
   "cell_type": "code",
   "execution_count": 60,
   "metadata": {},
   "outputs": [
    {
     "name": "stdout",
     "output_type": "stream",
     "text": [
      "Accuracy: 0.5083333333333333\n",
      "\n",
      "[[  0   0   0   0   0   0]\n",
      " [  0   0   0   0   0   0]\n",
      " [  2   9  45  23   7   1]\n",
      " [  0   2  54 100  28   2]\n",
      " [  0   1   5  35  38   8]\n",
      " [  0   0   0   0   0   0]]\n",
      "\n",
      "\n",
      "              precision    recall  f1-score   support\n",
      "\n",
      "           3       0.00      0.00      0.00         0\n",
      "           4       0.00      0.00      0.00         0\n",
      "           5       0.43      0.52      0.47        87\n",
      "           6       0.63      0.54      0.58       186\n",
      "           7       0.52      0.44      0.48        87\n",
      "           8       0.00      0.00      0.00         0\n",
      "\n",
      "    accuracy                           0.51       360\n",
      "   macro avg       0.26      0.25      0.25       360\n",
      "weighted avg       0.56      0.51      0.53       360\n",
      "\n"
     ]
    },
    {
     "name": "stderr",
     "output_type": "stream",
     "text": [
      "/Users/issaczerihun/anaconda3/lib/python3.11/site-packages/sklearn/metrics/_classification.py:1344: UndefinedMetricWarning: Recall and F-score are ill-defined and being set to 0.0 in labels with no true samples. Use `zero_division` parameter to control this behavior.\n",
      "  _warn_prf(average, modifier, msg_start, len(result))\n",
      "/Users/issaczerihun/anaconda3/lib/python3.11/site-packages/sklearn/metrics/_classification.py:1344: UndefinedMetricWarning: Recall and F-score are ill-defined and being set to 0.0 in labels with no true samples. Use `zero_division` parameter to control this behavior.\n",
      "  _warn_prf(average, modifier, msg_start, len(result))\n",
      "/Users/issaczerihun/anaconda3/lib/python3.11/site-packages/sklearn/metrics/_classification.py:1344: UndefinedMetricWarning: Recall and F-score are ill-defined and being set to 0.0 in labels with no true samples. Use `zero_division` parameter to control this behavior.\n",
      "  _warn_prf(average, modifier, msg_start, len(result))\n"
     ]
    }
   ],
   "source": [
    "X_train,X_test,y_train,y_test=train_test_split(X_scaled,y,test_size=0.6,random_state = 3)\n",
    "clf_MODEL = KNeighborsClassifier(41)\n",
    "trained_data = clf_MODEL.fit(X_train,y_train)\n",
    "y_predicted_data = clf_MODEL.predict(X_test)\n",
    "print(\"Accuracy: \" + str(accuracy_score(y_predicted_data, y_test))+ '\\n')\n",
    "print(confusion_matrix(y_predicted_data, y_test))\n",
    "print('\\n')\n",
    "print(classification_report(y_predicted_data, y_test))"
   ]
  },
  {
   "cell_type": "code",
   "execution_count": 61,
   "metadata": {},
   "outputs": [
    {
     "name": "stdout",
     "output_type": "stream",
     "text": [
      "Accuracy: 0.5142857142857142\n",
      "\n",
      "[[  0   0   0   0   0   0]\n",
      " [  0   0   0   0   0   0]\n",
      " [  2  10  55  32   9   2]\n",
      " [  0   5  60 120  35   3]\n",
      " [  1   0   7  31  41   7]\n",
      " [  0   0   0   0   0   0]]\n",
      "\n",
      "\n",
      "              precision    recall  f1-score   support\n",
      "\n",
      "           3       0.00      0.00      0.00         0\n",
      "           4       0.00      0.00      0.00         0\n",
      "           5       0.45      0.50      0.47       110\n",
      "           6       0.66      0.54      0.59       223\n",
      "           7       0.48      0.47      0.48        87\n",
      "           8       0.00      0.00      0.00         0\n",
      "\n",
      "    accuracy                           0.51       420\n",
      "   macro avg       0.26      0.25      0.26       420\n",
      "weighted avg       0.57      0.51      0.54       420\n",
      "\n"
     ]
    },
    {
     "name": "stderr",
     "output_type": "stream",
     "text": [
      "/Users/issaczerihun/anaconda3/lib/python3.11/site-packages/sklearn/metrics/_classification.py:1344: UndefinedMetricWarning: Recall and F-score are ill-defined and being set to 0.0 in labels with no true samples. Use `zero_division` parameter to control this behavior.\n",
      "  _warn_prf(average, modifier, msg_start, len(result))\n",
      "/Users/issaczerihun/anaconda3/lib/python3.11/site-packages/sklearn/metrics/_classification.py:1344: UndefinedMetricWarning: Recall and F-score are ill-defined and being set to 0.0 in labels with no true samples. Use `zero_division` parameter to control this behavior.\n",
      "  _warn_prf(average, modifier, msg_start, len(result))\n",
      "/Users/issaczerihun/anaconda3/lib/python3.11/site-packages/sklearn/metrics/_classification.py:1344: UndefinedMetricWarning: Recall and F-score are ill-defined and being set to 0.0 in labels with no true samples. Use `zero_division` parameter to control this behavior.\n",
      "  _warn_prf(average, modifier, msg_start, len(result))\n"
     ]
    }
   ],
   "source": [
    "X_train,X_test,y_train,y_test=train_test_split(X_scaled,y,test_size=0.7,random_state = 3)\n",
    "clf_MODEL = KNeighborsClassifier(41)\n",
    "trained_data = clf_MODEL.fit(X_train,y_train)\n",
    "y_predicted_data = clf_MODEL.predict(X_test)\n",
    "print(\"Accuracy: \" + str(accuracy_score(y_predicted_data, y_test))+ '\\n')\n",
    "print(confusion_matrix(y_predicted_data, y_test))\n",
    "print('\\n')\n",
    "print(classification_report(y_predicted_data, y_test))"
   ]
  },
  {
   "cell_type": "code",
   "execution_count": 62,
   "metadata": {},
   "outputs": [
    {
     "name": "stdout",
     "output_type": "stream",
     "text": [
      "Accuracy: 0.4375\n",
      "\n",
      "[[  0   0   0   0   0   0]\n",
      " [  0   0   0   0   0   0]\n",
      " [  1   7  31  23   3   1]\n",
      " [  2  12 113 176  93  13]\n",
      " [  0   0   0   2   3   0]\n",
      " [  0   0   0   0   0   0]]\n",
      "\n",
      "\n",
      "              precision    recall  f1-score   support\n",
      "\n",
      "           3       0.00      0.00      0.00         0\n",
      "           4       0.00      0.00      0.00         0\n",
      "           5       0.22      0.47      0.30        66\n",
      "           6       0.88      0.43      0.58       409\n",
      "           7       0.03      0.60      0.06         5\n",
      "           8       0.00      0.00      0.00         0\n",
      "\n",
      "    accuracy                           0.44       480\n",
      "   macro avg       0.19      0.25      0.15       480\n",
      "weighted avg       0.78      0.44      0.53       480\n",
      "\n"
     ]
    },
    {
     "name": "stderr",
     "output_type": "stream",
     "text": [
      "/Users/issaczerihun/anaconda3/lib/python3.11/site-packages/sklearn/metrics/_classification.py:1344: UndefinedMetricWarning: Recall and F-score are ill-defined and being set to 0.0 in labels with no true samples. Use `zero_division` parameter to control this behavior.\n",
      "  _warn_prf(average, modifier, msg_start, len(result))\n",
      "/Users/issaczerihun/anaconda3/lib/python3.11/site-packages/sklearn/metrics/_classification.py:1344: UndefinedMetricWarning: Recall and F-score are ill-defined and being set to 0.0 in labels with no true samples. Use `zero_division` parameter to control this behavior.\n",
      "  _warn_prf(average, modifier, msg_start, len(result))\n",
      "/Users/issaczerihun/anaconda3/lib/python3.11/site-packages/sklearn/metrics/_classification.py:1344: UndefinedMetricWarning: Recall and F-score are ill-defined and being set to 0.0 in labels with no true samples. Use `zero_division` parameter to control this behavior.\n",
      "  _warn_prf(average, modifier, msg_start, len(result))\n"
     ]
    }
   ],
   "source": [
    "X_train,X_test,y_train,y_test=train_test_split(X_scaled,y,test_size=0.8,random_state = 3)\n",
    "clf_MODEL = KNeighborsClassifier(41)\n",
    "trained_data = clf_MODEL.fit(X_train,y_train)\n",
    "y_predicted_data = clf_MODEL.predict(X_test)\n",
    "print(\"Accuracy: \" + str(accuracy_score(y_predicted_data, y_test))+ '\\n')\n",
    "print(confusion_matrix(y_predicted_data, y_test))\n",
    "print('\\n')\n",
    "print(classification_report(y_predicted_data, y_test))"
   ]
  },
  {
   "cell_type": "markdown",
   "metadata": {
    "id": "r-i5aIqXpPbu"
   },
   "source": [
    "# Task 3: Clustering"
   ]
  },
  {
   "cell_type": "markdown",
   "metadata": {
    "id": "QOY4K_neos9j"
   },
   "source": [
    "## Task 3.1 "
   ]
  },
  {
   "cell_type": "code",
   "execution_count": 63,
   "metadata": {},
   "outputs": [],
   "source": [
    "#Separating target and feature columns.\n",
    "X = df_alcohol.iloc[:, 0:11]\n",
    "y = df_alcohol['quality']"
   ]
  },
  {
   "cell_type": "code",
   "execution_count": 64,
   "metadata": {},
   "outputs": [],
   "source": [
    "#Import necessary libraries\n",
    "from sklearn.cluster import KMeans\n",
    "import matplotlib.pyplot as plt\n",
    "from sklearn.metrics import silhouette_score"
   ]
  },
  {
   "cell_type": "code",
   "execution_count": 65,
   "metadata": {},
   "outputs": [
    {
     "name": "stdout",
     "output_type": "stream",
     "text": [
      "Silhouette Score: 0.34\n",
      "\n"
     ]
    },
    {
     "name": "stderr",
     "output_type": "stream",
     "text": [
      "/Users/issaczerihun/anaconda3/lib/python3.11/site-packages/sklearn/cluster/_kmeans.py:870: FutureWarning: The default value of `n_init` will change from 10 to 'auto' in 1.4. Set the value of `n_init` explicitly to suppress the warning\n",
      "  warnings.warn(\n"
     ]
    }
   ],
   "source": [
    "# K=Means model run and evaluated\n",
    "kmeans = KMeans(random_state = 3)\n",
    "kmeans.fit(X)\n",
    "X[\"cluster\"] = kmeans.predict(X)\n",
    "silhouette_avg = silhouette_score(X, kmeans.labels_)\n",
    "print(f'Silhouette Score: {silhouette_avg:.2f}\\n')"
   ]
  },
  {
   "cell_type": "code",
   "execution_count": 66,
   "metadata": {},
   "outputs": [
    {
     "name": "stdout",
     "output_type": "stream",
     "text": [
      "Silhouette Score when n_init = 5: 0.33\n",
      "\n",
      "Silhouette Score when n_init = 10: 0.34\n",
      "\n",
      "Silhouette Score when n_init = 15: 0.34\n",
      "\n",
      "Silhouette Score when n_init = 20: 0.34\n",
      "\n",
      "Silhouette Score when n_init = 25: 0.34\n",
      "\n",
      "Silhouette Score when n_init = 30: 0.33\n",
      "\n",
      "Silhouette Score when n_init = 35: 0.33\n",
      "\n",
      "Silhouette Score when n_init = 40: 0.33\n",
      "\n",
      "Silhouette Score when n_init = 45: 0.33\n",
      "\n",
      "Silhouette Score when n_init = 50: 0.33\n",
      "\n",
      "Silhouette Score when n_init = 55: 0.33\n",
      "\n",
      "Silhouette Score when n_init = 60: 0.33\n",
      "\n"
     ]
    }
   ],
   "source": [
    "# K=Means model run and evaluated (n_init increases by 5 for each iteration)\n",
    "num_iterations = 5\n",
    "while num_iterations <= 60:\n",
    "    kmeans = KMeans(n_init = num_iterations, random_state = 3)\n",
    "    kmeans.fit(X)\n",
    "    X[\"cluster\"] = kmeans.predict(X)\n",
    "    silhouette_avg = silhouette_score(X, kmeans.labels_)\n",
    "    print(f'Silhouette Score when n_init = {num_iterations}: {silhouette_avg:.2f}\\n')\n",
    "    X = df_alcohol.iloc[:, 0:11]\n",
    "    num_iterations += 5"
   ]
  },
  {
   "cell_type": "code",
   "execution_count": 67,
   "metadata": {},
   "outputs": [
    {
     "name": "stderr",
     "output_type": "stream",
     "text": [
      "/Users/issaczerihun/anaconda3/lib/python3.11/site-packages/sklearn/cluster/_kmeans.py:870: FutureWarning: The default value of `n_init` will change from 10 to 'auto' in 1.4. Set the value of `n_init` explicitly to suppress the warning\n",
      "  warnings.warn(\n"
     ]
    },
    {
     "name": "stdout",
     "output_type": "stream",
     "text": [
      "Silhouette Score: 0.34\n",
      "\n",
      "                 c\n",
      "cluster Target    \n",
      "0       3        1\n",
      "        4        6\n",
      "        5       12\n",
      "        6       25\n",
      "        7       16\n",
      "        8        2\n",
      "1       4        2\n",
      "        5       29\n",
      "        6       58\n",
      "        7       36\n",
      "2       4        3\n",
      "        5       34\n",
      "        6       19\n",
      "        7        6\n",
      "3       3        1\n",
      "        4        7\n",
      "        5       37\n",
      "        6       69\n",
      "        7       38\n",
      "        8        8\n",
      "4       3        2\n",
      "5       4        1\n",
      "        5       17\n",
      "        6       11\n",
      "        7        1\n",
      "6       4        2\n",
      "        5       26\n",
      "        6       35\n",
      "        7       11\n",
      "        8        2\n",
      "7       4        2\n",
      "        5       27\n",
      "        6       39\n",
      "        7       12\n",
      "        8        3\n",
      "\n",
      "\n"
     ]
    }
   ],
   "source": [
    "# K-Means modelling\n",
    "X = df_alcohol.iloc[:, 0:11]\n",
    "# Create model\n",
    "kmeans = KMeans(random_state = 3)\n",
    "# Train model with dataset\n",
    "kmeans.fit(X)\n",
    "# Use model to predict which cluster it belongs to\n",
    "X[\"cluster\"] = kmeans.predict(X)\n",
    "# Model scoring\n",
    "silhouette_avg = silhouette_score(X, kmeans.labels_)\n",
    "print(f'Silhouette Score: {silhouette_avg:.2f}\\n')\n",
    "# Generating classification report. \n",
    "# Shows the clusters with a count of all the quality labels within each cluster. \n",
    "X['Target'] = y\n",
    "X['c'] = 'Look at me, I\\'m important'\n",
    "classification_report = X[['cluster','Target','c']].groupby(['cluster','Target']).agg('count')\n",
    "print(classification_report)\n",
    "print('\\n')"
   ]
  },
  {
   "cell_type": "markdown",
   "metadata": {
    "id": "QOY4K_neos9j"
   },
   "source": [
    "## Task 3.2 "
   ]
  },
  {
   "cell_type": "code",
   "execution_count": 68,
   "metadata": {},
   "outputs": [],
   "source": [
    "#Plotting the sum of square distances (inertia) to K centroids against K (number of clusters)\n",
    "#For each increment of k, model has to be run and it's inertia will be stored in an array\n",
    "squreDistSum = []\n",
    "for k in range(1, 11):\n",
    "    X = df_alcohol.iloc[:, 0:11]\n",
    "    kmeans = KMeans(n_clusters=k, random_state=3, n_init = 10)\n",
    "    kmeans.fit(X)\n",
    "    squreDistSum.append(kmeans.inertia_)"
   ]
  },
  {
   "cell_type": "code",
   "execution_count": 69,
   "metadata": {},
   "outputs": [
    {
     "data": {
      "image/png": "[encoded data removed]",
      "text/plain": [
       "<Figure size 600x600 with 1 Axes>"
      ]
     },
     "metadata": {},
     "output_type": "display_data"
    }
   ],
   "source": [
    "# Actual plotting of inertia against number of clusters \n",
    "plt.figure(figsize=(6, 6))\n",
    "plt.plot(range(1, 11), squreDistSum)\n",
    "plt.xlabel('Number of Clusters (K)')\n",
    "plt.ylabel('Inertia')\n",
    "plt.title('K vs Inertia Graph')\n",
    "plt.show()"
   ]
  },
  {
   "cell_type": "code",
   "execution_count": 70,
   "metadata": {},
   "outputs": [
    {
     "name": "stdout",
     "output_type": "stream",
     "text": [
      "Silhouette score when k (number of clusters) is 2 = 0.50\n",
      "\n",
      "Silhouette score when k (number of clusters) is 3 = 0.41\n",
      "\n",
      "Silhouette score when k (number of clusters) is 4 = 0.39\n",
      "\n",
      "Silhouette score when k (number of clusters) is 5 = 0.37\n",
      "\n",
      "Silhouette score when k (number of clusters) is 6 = 0.36\n",
      "\n",
      "Silhouette score when k (number of clusters) is 7 = 0.35\n",
      "\n",
      "Silhouette score when k (number of clusters) is 8 = 0.33\n",
      "\n",
      "Silhouette score when k (number of clusters) is 9 = 0.33\n",
      "\n",
      "Silhouette score when k (number of clusters) is 10 = 0.33\n",
      "\n"
     ]
    }
   ],
   "source": [
    "# K=Means model run and evaluated (K increases by 1 for each iteration)\n",
    "# Silhouette score used for evaluation\n",
    "for k in range(2, 11):\n",
    "    X = df_alcohol.iloc[:, 0:11]\n",
    "    kmeans = KMeans(n_clusters=k, random_state=3, n_init = 'auto')\n",
    "    kmeans.fit(X)\n",
    "    X[\"cluster\"] = kmeans.predict(X)\n",
    "    silhouette_avg = silhouette_score(X, kmeans.labels_)\n",
    "    print(f'Silhouette score when k (number of clusters) is {k} = {silhouette_avg:.2f}\\n')\n"
   ]
  },
  {
   "cell_type": "code",
   "execution_count": 71,
   "metadata": {},
   "outputs": [
    {
     "name": "stdout",
     "output_type": "stream",
     "text": [
      "Silhouette Score: 0.50\n",
      "\n",
      "                  c\n",
      "cluster Target     \n",
      "0       3         2\n",
      "        4         7\n",
      "        5       109\n",
      "        6       110\n",
      "        7        33\n",
      "        8         5\n",
      "1       3         2\n",
      "        4        16\n",
      "        5        73\n",
      "        6       146\n",
      "        7        87\n",
      "        8        10\n",
      "\n",
      "\n"
     ]
    },
    {
     "name": "stderr",
     "output_type": "stream",
     "text": [
      "/Users/issaczerihun/anaconda3/lib/python3.11/site-packages/sklearn/cluster/_kmeans.py:870: FutureWarning: The default value of `n_init` will change from 10 to 'auto' in 1.4. Set the value of `n_init` explicitly to suppress the warning\n",
      "  warnings.warn(\n"
     ]
    }
   ],
   "source": [
    "X = df_alcohol.iloc[:, 0:11]\n",
    "kmeans = KMeans(n_clusters = 2,random_state = 3)\n",
    "kmeans.fit(X)\n",
    "X[\"cluster\"] = kmeans.predict(X)\n",
    "silhouette_avg = silhouette_score(X, kmeans.labels_)\n",
    "print(f'Silhouette Score: {silhouette_avg:.2f}\\n')\n",
    "# Generating classification report\n",
    "X['Target'] = y\n",
    "X['c'] = 'Look at me, I\\'m important'\n",
    "classification_report = X[['cluster','Target','c']].groupby(['cluster','Target']).agg('count')\n",
    "print(classification_report)\n",
    "print('\\n')"
   ]
  },
  {
   "cell_type": "markdown",
   "metadata": {
    "id": "QOY4K_neos9j"
   },
   "source": [
    "## Task 3.3 "
   ]
  },
  {
   "cell_type": "code",
   "execution_count": 72,
   "metadata": {},
   "outputs": [
    {
     "name": "stdout",
     "output_type": "stream",
     "text": [
      "                count\n",
      "cluster Target       \n",
      "0       3           2\n",
      "        4           7\n",
      "        5         109\n",
      "        6         110\n",
      "        7          33\n",
      "        8           5\n",
      "1       3           2\n",
      "        4          16\n",
      "        5          73\n",
      "        6         146\n",
      "        7          87\n",
      "        8          10\n",
      "\n",
      "\n"
     ]
    }
   ],
   "source": [
    "# Running algorithm\n",
    "X = df_alcohol.iloc[:, 0:11]\n",
    "kmeans = KMeans(n_clusters=2, random_state=3, n_init = 10)\n",
    "kmeans.fit(X)\n",
    "X[\"cluster\"] = kmeans.predict(X)\n",
    "X['Target'] = y\n",
    "X['count'] = 'Look at me, I\\'m important'\n",
    "classification_report = X[['cluster','Target','count']].groupby(['cluster','Target']).agg('count')\n",
    "print(classification_report)\n",
    "print('\\n')"
   ]
  },
  {
   "cell_type": "code",
   "execution_count": 73,
   "metadata": {},
   "outputs": [
    {
     "name": "stdout",
     "output_type": "stream",
     "text": [
      "[[  0   0   0   0   0   0   0   0]\n",
      " [  0   0   0   0   0   0   0   0]\n",
      " [  2   2   0   0   0   0   0   0]\n",
      " [  7  16   0   0   0   0   0   0]\n",
      " [109  73   0   0   0   0   0   0]\n",
      " [110 146   0   0   0   0   0   0]\n",
      " [ 33  87   0   0   0   0   0   0]\n",
      " [  5  10   0   0   0   0   0   0]]\n"
     ]
    }
   ],
   "source": [
    "# Generating confusion matrix\n",
    "predict = X[\"cluster\"]\n",
    "from sklearn.metrics import confusion_matrix\n",
    "cm = confusion_matrix(y,predict)\n",
    "print(cm)"
   ]
  },
  {
   "cell_type": "code",
   "execution_count": 74,
   "metadata": {},
   "outputs": [
    {
     "name": "stdout",
     "output_type": "stream",
     "text": [
      "[[  2   2]\n",
      " [  7  16]\n",
      " [109  73]\n",
      " [110 146]\n",
      " [ 33  87]\n",
      " [  5  10]]\n"
     ]
    }
   ],
   "source": [
    "# Formatting confusion matrix\n",
    "cm = cm[2:,:2]\n",
    "print(cm)"
   ]
  },
  {
   "cell_type": "code",
   "execution_count": 75,
   "metadata": {},
   "outputs": [
    {
     "data": {
      "image/png": "[encoded data removed]",
      "text/plain": [
       "<Figure size 600x600 with 1 Axes>"
      ]
     },
     "metadata": {},
     "output_type": "display_data"
    }
   ],
   "source": [
    "# Further formatting confusion matrix\n",
    "import seaborn as sns\n",
    "plt.figure(figsize=(6,6))\n",
    "plt.xlabel('Clusters')\n",
    "sns.set(font_scale=1.2)\n",
    "plt.title(\"Confusion Matrix\",fontweight=60)\n",
    "sns.heatmap(cm, annot=True, fmt='d', cbar=False,\n",
    "           xticklabels=['First Cluster','Second Cluster'],\n",
    "           yticklabels=[3,4,5,6,7,8])\n",
    "plt.ylabel('Quality labels')\n",
    "plt.show()"
   ]
  }
 ],
 "metadata": {
  "colab": {
   "collapsed_sections": [],
   "name": "assignment1_TEMPLATE.ipynb",
   "provenance": [],
   "toc_visible": true
  },
  "kernelspec": {
   "display_name": "Python 3 (ipykernel)",
   "language": "python",
   "name": "python3"
  },
  "language_info": {
   "codemirror_mode": {
    "name": "ipython",
    "version": 3
   },
   "file_extension": ".py",
   "mimetype": "text/x-python",
   "name": "python",
   "nbconvert_exporter": "python",
   "pygments_lexer": "ipython3",
   "version": "3.11.3"
  }
 },
 "nbformat": 4,
 "nbformat_minor": 4
}
